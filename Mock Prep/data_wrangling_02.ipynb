{
 "cells": [
  {
   "cell_type": "code",
   "execution_count": 1,
   "id": "ea863091",
   "metadata": {},
   "outputs": [],
   "source": [
    "import pandas as pd\n",
    "import numpy as np\n",
    "import seaborn as sns\n",
    "import matplotlib.pyplot as plt"
   ]
  },
  {
   "cell_type": "code",
   "execution_count": 2,
   "id": "38f74418",
   "metadata": {},
   "outputs": [],
   "source": [
    "file_path = \"../datasets/StudentsPerformance_modified.csv\"\n",
    "df = pd.read_csv(file_path)"
   ]
  },
  {
   "cell_type": "code",
   "execution_count": 3,
   "id": "64da5244",
   "metadata": {},
   "outputs": [
    {
     "data": {
      "text/plain": [
       "(1000, 8)"
      ]
     },
     "execution_count": 3,
     "metadata": {},
     "output_type": "execute_result"
    }
   ],
   "source": [
    "df.shape"
   ]
  },
  {
   "cell_type": "code",
   "execution_count": 4,
   "id": "7c4cda97",
   "metadata": {},
   "outputs": [
    {
     "name": "stdout",
     "output_type": "stream",
     "text": [
      "['gender', 'race/ethnicity', 'parental level of education', 'lunch', 'test preparation course', 'math score', 'reading score', 'writing score']\n"
     ]
    }
   ],
   "source": [
    "print(list(df.columns))"
   ]
  },
  {
   "cell_type": "code",
   "execution_count": 5,
   "id": "1a17821e",
   "metadata": {},
   "outputs": [
    {
     "data": {
      "application/vnd.microsoft.datawrangler.viewer.v0+json": {
       "columns": [
        {
         "name": "index",
         "rawType": "int64",
         "type": "integer"
        },
        {
         "name": "gender",
         "rawType": "object",
         "type": "string"
        },
        {
         "name": "race/ethnicity",
         "rawType": "object",
         "type": "string"
        },
        {
         "name": "parental level of education",
         "rawType": "object",
         "type": "string"
        },
        {
         "name": "lunch",
         "rawType": "object",
         "type": "string"
        },
        {
         "name": "test preparation course",
         "rawType": "object",
         "type": "string"
        },
        {
         "name": "math score",
         "rawType": "object",
         "type": "string"
        },
        {
         "name": "reading score",
         "rawType": "float64",
         "type": "float"
        },
        {
         "name": "writing score",
         "rawType": "float64",
         "type": "float"
        }
       ],
       "conversionMethod": "pd.DataFrame",
       "ref": "314bb947-c946-478c-97a8-260b55da0ddc",
       "rows": [
        [
         "0",
         "female",
         "group B",
         "bachelor's degree",
         "standard",
         "none",
         "72",
         "72.0",
         "74.0"
        ],
        [
         "1",
         "female",
         "group C",
         "some college",
         "standard",
         "completed",
         "69",
         "90.0",
         "88.0"
        ],
        [
         "2",
         "female",
         "group B",
         "master's degree",
         "standard",
         "none",
         "90",
         "95.0",
         "93.0"
        ],
        [
         "3",
         "male",
         "group A",
         "associate's degree",
         "free/reduced",
         "none",
         "47",
         "57.0",
         "44.0"
        ],
        [
         "4",
         "male",
         "group C",
         "some college",
         "standard",
         "none",
         "76",
         "78.0",
         "75.0"
        ]
       ],
       "shape": {
        "columns": 8,
        "rows": 5
       }
      },
      "text/html": [
       "<div>\n",
       "<style scoped>\n",
       "    .dataframe tbody tr th:only-of-type {\n",
       "        vertical-align: middle;\n",
       "    }\n",
       "\n",
       "    .dataframe tbody tr th {\n",
       "        vertical-align: top;\n",
       "    }\n",
       "\n",
       "    .dataframe thead th {\n",
       "        text-align: right;\n",
       "    }\n",
       "</style>\n",
       "<table border=\"1\" class=\"dataframe\">\n",
       "  <thead>\n",
       "    <tr style=\"text-align: right;\">\n",
       "      <th></th>\n",
       "      <th>gender</th>\n",
       "      <th>race/ethnicity</th>\n",
       "      <th>parental level of education</th>\n",
       "      <th>lunch</th>\n",
       "      <th>test preparation course</th>\n",
       "      <th>math score</th>\n",
       "      <th>reading score</th>\n",
       "      <th>writing score</th>\n",
       "    </tr>\n",
       "  </thead>\n",
       "  <tbody>\n",
       "    <tr>\n",
       "      <th>0</th>\n",
       "      <td>female</td>\n",
       "      <td>group B</td>\n",
       "      <td>bachelor's degree</td>\n",
       "      <td>standard</td>\n",
       "      <td>none</td>\n",
       "      <td>72</td>\n",
       "      <td>72.0</td>\n",
       "      <td>74.0</td>\n",
       "    </tr>\n",
       "    <tr>\n",
       "      <th>1</th>\n",
       "      <td>female</td>\n",
       "      <td>group C</td>\n",
       "      <td>some college</td>\n",
       "      <td>standard</td>\n",
       "      <td>completed</td>\n",
       "      <td>69</td>\n",
       "      <td>90.0</td>\n",
       "      <td>88.0</td>\n",
       "    </tr>\n",
       "    <tr>\n",
       "      <th>2</th>\n",
       "      <td>female</td>\n",
       "      <td>group B</td>\n",
       "      <td>master's degree</td>\n",
       "      <td>standard</td>\n",
       "      <td>none</td>\n",
       "      <td>90</td>\n",
       "      <td>95.0</td>\n",
       "      <td>93.0</td>\n",
       "    </tr>\n",
       "    <tr>\n",
       "      <th>3</th>\n",
       "      <td>male</td>\n",
       "      <td>group A</td>\n",
       "      <td>associate's degree</td>\n",
       "      <td>free/reduced</td>\n",
       "      <td>none</td>\n",
       "      <td>47</td>\n",
       "      <td>57.0</td>\n",
       "      <td>44.0</td>\n",
       "    </tr>\n",
       "    <tr>\n",
       "      <th>4</th>\n",
       "      <td>male</td>\n",
       "      <td>group C</td>\n",
       "      <td>some college</td>\n",
       "      <td>standard</td>\n",
       "      <td>none</td>\n",
       "      <td>76</td>\n",
       "      <td>78.0</td>\n",
       "      <td>75.0</td>\n",
       "    </tr>\n",
       "  </tbody>\n",
       "</table>\n",
       "</div>"
      ],
      "text/plain": [
       "   gender race/ethnicity parental level of education         lunch  \\\n",
       "0  female        group B           bachelor's degree      standard   \n",
       "1  female        group C                some college      standard   \n",
       "2  female        group B             master's degree      standard   \n",
       "3    male        group A          associate's degree  free/reduced   \n",
       "4    male        group C                some college      standard   \n",
       "\n",
       "  test preparation course math score  reading score  writing score  \n",
       "0                    none         72           72.0           74.0  \n",
       "1               completed         69           90.0           88.0  \n",
       "2                    none         90           95.0           93.0  \n",
       "3                    none         47           57.0           44.0  \n",
       "4                    none         76           78.0           75.0  "
      ]
     },
     "execution_count": 5,
     "metadata": {},
     "output_type": "execute_result"
    }
   ],
   "source": [
    "df.head()"
   ]
  },
  {
   "cell_type": "code",
   "execution_count": 6,
   "id": "59e385e6",
   "metadata": {},
   "outputs": [
    {
     "data": {
      "application/vnd.microsoft.datawrangler.viewer.v0+json": {
       "columns": [
        {
         "name": "index",
         "rawType": "int64",
         "type": "integer"
        },
        {
         "name": "gender",
         "rawType": "object",
         "type": "string"
        },
        {
         "name": "race/ethnicity",
         "rawType": "object",
         "type": "string"
        },
        {
         "name": "parental level of education",
         "rawType": "object",
         "type": "string"
        },
        {
         "name": "lunch",
         "rawType": "object",
         "type": "string"
        },
        {
         "name": "test preparation course",
         "rawType": "object",
         "type": "string"
        },
        {
         "name": "math score",
         "rawType": "object",
         "type": "string"
        },
        {
         "name": "reading score",
         "rawType": "float64",
         "type": "float"
        },
        {
         "name": "writing score",
         "rawType": "float64",
         "type": "float"
        }
       ],
       "conversionMethod": "pd.DataFrame",
       "ref": "dc82639a-1474-4f10-97b1-297784b74c70",
       "rows": [
        [
         "995",
         "female",
         "group E",
         "master's degree",
         "standard",
         "completed",
         "88",
         "99.0",
         "95.0"
        ],
        [
         "996",
         "male",
         "group C",
         "high school",
         "free/reduced",
         "none",
         "62",
         "55.0",
         "55.0"
        ],
        [
         "997",
         "female",
         "group C",
         "high school",
         "free/reduced",
         "completed",
         "59",
         "71.0",
         "65.0"
        ],
        [
         "998",
         "female",
         "group D",
         "some college",
         "standard",
         "completed",
         "68",
         "78.0",
         "77.0"
        ],
        [
         "999",
         "female",
         "group D",
         "some college",
         "free/reduced",
         "none",
         "77",
         "86.0",
         "86.0"
        ]
       ],
       "shape": {
        "columns": 8,
        "rows": 5
       }
      },
      "text/html": [
       "<div>\n",
       "<style scoped>\n",
       "    .dataframe tbody tr th:only-of-type {\n",
       "        vertical-align: middle;\n",
       "    }\n",
       "\n",
       "    .dataframe tbody tr th {\n",
       "        vertical-align: top;\n",
       "    }\n",
       "\n",
       "    .dataframe thead th {\n",
       "        text-align: right;\n",
       "    }\n",
       "</style>\n",
       "<table border=\"1\" class=\"dataframe\">\n",
       "  <thead>\n",
       "    <tr style=\"text-align: right;\">\n",
       "      <th></th>\n",
       "      <th>gender</th>\n",
       "      <th>race/ethnicity</th>\n",
       "      <th>parental level of education</th>\n",
       "      <th>lunch</th>\n",
       "      <th>test preparation course</th>\n",
       "      <th>math score</th>\n",
       "      <th>reading score</th>\n",
       "      <th>writing score</th>\n",
       "    </tr>\n",
       "  </thead>\n",
       "  <tbody>\n",
       "    <tr>\n",
       "      <th>995</th>\n",
       "      <td>female</td>\n",
       "      <td>group E</td>\n",
       "      <td>master's degree</td>\n",
       "      <td>standard</td>\n",
       "      <td>completed</td>\n",
       "      <td>88</td>\n",
       "      <td>99.0</td>\n",
       "      <td>95.0</td>\n",
       "    </tr>\n",
       "    <tr>\n",
       "      <th>996</th>\n",
       "      <td>male</td>\n",
       "      <td>group C</td>\n",
       "      <td>high school</td>\n",
       "      <td>free/reduced</td>\n",
       "      <td>none</td>\n",
       "      <td>62</td>\n",
       "      <td>55.0</td>\n",
       "      <td>55.0</td>\n",
       "    </tr>\n",
       "    <tr>\n",
       "      <th>997</th>\n",
       "      <td>female</td>\n",
       "      <td>group C</td>\n",
       "      <td>high school</td>\n",
       "      <td>free/reduced</td>\n",
       "      <td>completed</td>\n",
       "      <td>59</td>\n",
       "      <td>71.0</td>\n",
       "      <td>65.0</td>\n",
       "    </tr>\n",
       "    <tr>\n",
       "      <th>998</th>\n",
       "      <td>female</td>\n",
       "      <td>group D</td>\n",
       "      <td>some college</td>\n",
       "      <td>standard</td>\n",
       "      <td>completed</td>\n",
       "      <td>68</td>\n",
       "      <td>78.0</td>\n",
       "      <td>77.0</td>\n",
       "    </tr>\n",
       "    <tr>\n",
       "      <th>999</th>\n",
       "      <td>female</td>\n",
       "      <td>group D</td>\n",
       "      <td>some college</td>\n",
       "      <td>free/reduced</td>\n",
       "      <td>none</td>\n",
       "      <td>77</td>\n",
       "      <td>86.0</td>\n",
       "      <td>86.0</td>\n",
       "    </tr>\n",
       "  </tbody>\n",
       "</table>\n",
       "</div>"
      ],
      "text/plain": [
       "     gender race/ethnicity parental level of education         lunch  \\\n",
       "995  female        group E             master's degree      standard   \n",
       "996    male        group C                 high school  free/reduced   \n",
       "997  female        group C                 high school  free/reduced   \n",
       "998  female        group D                some college      standard   \n",
       "999  female        group D                some college  free/reduced   \n",
       "\n",
       "    test preparation course math score  reading score  writing score  \n",
       "995               completed         88           99.0           95.0  \n",
       "996                    none         62           55.0           55.0  \n",
       "997               completed         59           71.0           65.0  \n",
       "998               completed         68           78.0           77.0  \n",
       "999                    none         77           86.0           86.0  "
      ]
     },
     "execution_count": 6,
     "metadata": {},
     "output_type": "execute_result"
    }
   ],
   "source": [
    "df.tail()"
   ]
  },
  {
   "cell_type": "code",
   "execution_count": 7,
   "id": "22ff673b",
   "metadata": {},
   "outputs": [
    {
     "data": {
      "application/vnd.microsoft.datawrangler.viewer.v0+json": {
       "columns": [
        {
         "name": "index",
         "rawType": "object",
         "type": "string"
        },
        {
         "name": "reading score",
         "rawType": "float64",
         "type": "float"
        },
        {
         "name": "writing score",
         "rawType": "float64",
         "type": "float"
        }
       ],
       "conversionMethod": "pd.DataFrame",
       "ref": "76853280-47f4-4f4e-bbe8-8eaed9038b1b",
       "rows": [
        [
         "count",
         "994.0",
         "991.0"
        ],
        [
         "mean",
         "68.00804828973843",
         "69.48738647830474"
        ],
        [
         "std",
         "16.602270425961606",
         "29.563757369949975"
        ],
        [
         "min",
         "3.0",
         "10.0"
        ],
        [
         "25%",
         "58.0",
         "57.0"
        ],
        [
         "50%",
         "69.5",
         "69.0"
        ],
        [
         "75%",
         "79.0",
         "79.0"
        ],
        [
         "max",
         "100.0",
         "567.0"
        ]
       ],
       "shape": {
        "columns": 2,
        "rows": 8
       }
      },
      "text/html": [
       "<div>\n",
       "<style scoped>\n",
       "    .dataframe tbody tr th:only-of-type {\n",
       "        vertical-align: middle;\n",
       "    }\n",
       "\n",
       "    .dataframe tbody tr th {\n",
       "        vertical-align: top;\n",
       "    }\n",
       "\n",
       "    .dataframe thead th {\n",
       "        text-align: right;\n",
       "    }\n",
       "</style>\n",
       "<table border=\"1\" class=\"dataframe\">\n",
       "  <thead>\n",
       "    <tr style=\"text-align: right;\">\n",
       "      <th></th>\n",
       "      <th>reading score</th>\n",
       "      <th>writing score</th>\n",
       "    </tr>\n",
       "  </thead>\n",
       "  <tbody>\n",
       "    <tr>\n",
       "      <th>count</th>\n",
       "      <td>994.000000</td>\n",
       "      <td>991.000000</td>\n",
       "    </tr>\n",
       "    <tr>\n",
       "      <th>mean</th>\n",
       "      <td>68.008048</td>\n",
       "      <td>69.487386</td>\n",
       "    </tr>\n",
       "    <tr>\n",
       "      <th>std</th>\n",
       "      <td>16.602270</td>\n",
       "      <td>29.563757</td>\n",
       "    </tr>\n",
       "    <tr>\n",
       "      <th>min</th>\n",
       "      <td>3.000000</td>\n",
       "      <td>10.000000</td>\n",
       "    </tr>\n",
       "    <tr>\n",
       "      <th>25%</th>\n",
       "      <td>58.000000</td>\n",
       "      <td>57.000000</td>\n",
       "    </tr>\n",
       "    <tr>\n",
       "      <th>50%</th>\n",
       "      <td>69.500000</td>\n",
       "      <td>69.000000</td>\n",
       "    </tr>\n",
       "    <tr>\n",
       "      <th>75%</th>\n",
       "      <td>79.000000</td>\n",
       "      <td>79.000000</td>\n",
       "    </tr>\n",
       "    <tr>\n",
       "      <th>max</th>\n",
       "      <td>100.000000</td>\n",
       "      <td>567.000000</td>\n",
       "    </tr>\n",
       "  </tbody>\n",
       "</table>\n",
       "</div>"
      ],
      "text/plain": [
       "       reading score  writing score\n",
       "count     994.000000     991.000000\n",
       "mean       68.008048      69.487386\n",
       "std        16.602270      29.563757\n",
       "min         3.000000      10.000000\n",
       "25%        58.000000      57.000000\n",
       "50%        69.500000      69.000000\n",
       "75%        79.000000      79.000000\n",
       "max       100.000000     567.000000"
      ]
     },
     "execution_count": 7,
     "metadata": {},
     "output_type": "execute_result"
    }
   ],
   "source": [
    "df.describe()"
   ]
  },
  {
   "cell_type": "code",
   "execution_count": 8,
   "id": "003d80ba",
   "metadata": {},
   "outputs": [
    {
     "name": "stdout",
     "output_type": "stream",
     "text": [
      "<class 'pandas.core.frame.DataFrame'>\n",
      "RangeIndex: 1000 entries, 0 to 999\n",
      "Data columns (total 8 columns):\n",
      " #   Column                       Non-Null Count  Dtype  \n",
      "---  ------                       --------------  -----  \n",
      " 0   gender                       1000 non-null   object \n",
      " 1   race/ethnicity               1000 non-null   object \n",
      " 2   parental level of education  1000 non-null   object \n",
      " 3   lunch                        1000 non-null   object \n",
      " 4   test preparation course      1000 non-null   object \n",
      " 5   math score                   992 non-null    object \n",
      " 6   reading score                994 non-null    float64\n",
      " 7   writing score                991 non-null    float64\n",
      "dtypes: float64(2), object(6)\n",
      "memory usage: 62.6+ KB\n"
     ]
    }
   ],
   "source": [
    "df.info()"
   ]
  },
  {
   "cell_type": "code",
   "execution_count": 9,
   "id": "5ec00f21",
   "metadata": {},
   "outputs": [
    {
     "data": {
      "text/plain": [
       "gender                          object\n",
       "race/ethnicity                  object\n",
       "parental level of education     object\n",
       "lunch                           object\n",
       "test preparation course         object\n",
       "math score                      object\n",
       "reading score                  float64\n",
       "writing score                  float64\n",
       "dtype: object"
      ]
     },
     "execution_count": 9,
     "metadata": {},
     "output_type": "execute_result"
    }
   ],
   "source": [
    "df.dtypes"
   ]
  },
  {
   "cell_type": "code",
   "execution_count": 10,
   "id": "c9defcb6",
   "metadata": {},
   "outputs": [
    {
     "data": {
      "application/vnd.microsoft.datawrangler.viewer.v0+json": {
       "columns": [
        {
         "name": "index",
         "rawType": "int64",
         "type": "integer"
        },
        {
         "name": "parental level of education",
         "rawType": "object",
         "type": "string"
        },
        {
         "name": "count",
         "rawType": "int64",
         "type": "integer"
        }
       ],
       "conversionMethod": "pd.DataFrame",
       "ref": "2ec263f4-fc0b-4819-9d20-7519611b0ec9",
       "rows": [
        [
         "0",
         "some college",
         "226"
        ],
        [
         "1",
         "associate's degree",
         "222"
        ],
        [
         "2",
         "high school",
         "196"
        ],
        [
         "3",
         "some high school",
         "179"
        ],
        [
         "4",
         "bachelor's degree",
         "118"
        ],
        [
         "5",
         "master's degree",
         "59"
        ]
       ],
       "shape": {
        "columns": 2,
        "rows": 6
       }
      },
      "text/html": [
       "<div>\n",
       "<style scoped>\n",
       "    .dataframe tbody tr th:only-of-type {\n",
       "        vertical-align: middle;\n",
       "    }\n",
       "\n",
       "    .dataframe tbody tr th {\n",
       "        vertical-align: top;\n",
       "    }\n",
       "\n",
       "    .dataframe thead th {\n",
       "        text-align: right;\n",
       "    }\n",
       "</style>\n",
       "<table border=\"1\" class=\"dataframe\">\n",
       "  <thead>\n",
       "    <tr style=\"text-align: right;\">\n",
       "      <th></th>\n",
       "      <th>parental level of education</th>\n",
       "      <th>count</th>\n",
       "    </tr>\n",
       "  </thead>\n",
       "  <tbody>\n",
       "    <tr>\n",
       "      <th>0</th>\n",
       "      <td>some college</td>\n",
       "      <td>226</td>\n",
       "    </tr>\n",
       "    <tr>\n",
       "      <th>1</th>\n",
       "      <td>associate's degree</td>\n",
       "      <td>222</td>\n",
       "    </tr>\n",
       "    <tr>\n",
       "      <th>2</th>\n",
       "      <td>high school</td>\n",
       "      <td>196</td>\n",
       "    </tr>\n",
       "    <tr>\n",
       "      <th>3</th>\n",
       "      <td>some high school</td>\n",
       "      <td>179</td>\n",
       "    </tr>\n",
       "    <tr>\n",
       "      <th>4</th>\n",
       "      <td>bachelor's degree</td>\n",
       "      <td>118</td>\n",
       "    </tr>\n",
       "    <tr>\n",
       "      <th>5</th>\n",
       "      <td>master's degree</td>\n",
       "      <td>59</td>\n",
       "    </tr>\n",
       "  </tbody>\n",
       "</table>\n",
       "</div>"
      ],
      "text/plain": [
       "  parental level of education  count\n",
       "0                some college    226\n",
       "1          associate's degree    222\n",
       "2                 high school    196\n",
       "3            some high school    179\n",
       "4           bachelor's degree    118\n",
       "5             master's degree     59"
      ]
     },
     "execution_count": 10,
     "metadata": {},
     "output_type": "execute_result"
    }
   ],
   "source": [
    "education_df = df[\"parental level of education\"].value_counts().reset_index()\n",
    "education_df.columns = [\"parental level of education\", \"count\"]\n",
    "education_df"
   ]
  },
  {
   "cell_type": "code",
   "execution_count": 11,
   "id": "b6bbfa57",
   "metadata": {},
   "outputs": [
    {
     "data": {
      "application/vnd.microsoft.datawrangler.viewer.v0+json": {
       "columns": [
        {
         "name": "index",
         "rawType": "int64",
         "type": "integer"
        },
        {
         "name": "Features",
         "rawType": "object",
         "type": "string"
        },
        {
         "name": "Count",
         "rawType": "int64",
         "type": "integer"
        }
       ],
       "conversionMethod": "pd.DataFrame",
       "ref": "118a3e0d-d497-4d9b-8073-db3c5ad84c94",
       "rows": [
        [
         "0",
         "gender",
         "0"
        ],
        [
         "1",
         "race/ethnicity",
         "0"
        ],
        [
         "2",
         "parental level of education",
         "0"
        ],
        [
         "3",
         "lunch",
         "0"
        ],
        [
         "4",
         "test preparation course",
         "0"
        ],
        [
         "5",
         "math score",
         "8"
        ],
        [
         "6",
         "reading score",
         "6"
        ],
        [
         "7",
         "writing score",
         "9"
        ]
       ],
       "shape": {
        "columns": 2,
        "rows": 8
       }
      },
      "text/html": [
       "<div>\n",
       "<style scoped>\n",
       "    .dataframe tbody tr th:only-of-type {\n",
       "        vertical-align: middle;\n",
       "    }\n",
       "\n",
       "    .dataframe tbody tr th {\n",
       "        vertical-align: top;\n",
       "    }\n",
       "\n",
       "    .dataframe thead th {\n",
       "        text-align: right;\n",
       "    }\n",
       "</style>\n",
       "<table border=\"1\" class=\"dataframe\">\n",
       "  <thead>\n",
       "    <tr style=\"text-align: right;\">\n",
       "      <th></th>\n",
       "      <th>Features</th>\n",
       "      <th>Count</th>\n",
       "    </tr>\n",
       "  </thead>\n",
       "  <tbody>\n",
       "    <tr>\n",
       "      <th>0</th>\n",
       "      <td>gender</td>\n",
       "      <td>0</td>\n",
       "    </tr>\n",
       "    <tr>\n",
       "      <th>1</th>\n",
       "      <td>race/ethnicity</td>\n",
       "      <td>0</td>\n",
       "    </tr>\n",
       "    <tr>\n",
       "      <th>2</th>\n",
       "      <td>parental level of education</td>\n",
       "      <td>0</td>\n",
       "    </tr>\n",
       "    <tr>\n",
       "      <th>3</th>\n",
       "      <td>lunch</td>\n",
       "      <td>0</td>\n",
       "    </tr>\n",
       "    <tr>\n",
       "      <th>4</th>\n",
       "      <td>test preparation course</td>\n",
       "      <td>0</td>\n",
       "    </tr>\n",
       "    <tr>\n",
       "      <th>5</th>\n",
       "      <td>math score</td>\n",
       "      <td>8</td>\n",
       "    </tr>\n",
       "    <tr>\n",
       "      <th>6</th>\n",
       "      <td>reading score</td>\n",
       "      <td>6</td>\n",
       "    </tr>\n",
       "    <tr>\n",
       "      <th>7</th>\n",
       "      <td>writing score</td>\n",
       "      <td>9</td>\n",
       "    </tr>\n",
       "  </tbody>\n",
       "</table>\n",
       "</div>"
      ],
      "text/plain": [
       "                      Features  Count\n",
       "0                       gender      0\n",
       "1               race/ethnicity      0\n",
       "2  parental level of education      0\n",
       "3                        lunch      0\n",
       "4      test preparation course      0\n",
       "5                   math score      8\n",
       "6                reading score      6\n",
       "7                writing score      9"
      ]
     },
     "execution_count": 11,
     "metadata": {},
     "output_type": "execute_result"
    }
   ],
   "source": [
    "null_values = df.isnull().sum()\n",
    "null_df = pd.DataFrame(null_values).reset_index()\n",
    "null_df.columns = [\"Features\", \"Count\"]\n",
    "null_df"
   ]
  },
  {
   "cell_type": "code",
   "execution_count": 12,
   "id": "8dd7d476",
   "metadata": {},
   "outputs": [
    {
     "data": {
      "application/vnd.microsoft.datawrangler.viewer.v0+json": {
       "columns": [
        {
         "name": "index",
         "rawType": "int64",
         "type": "integer"
        },
        {
         "name": "Features",
         "rawType": "object",
         "type": "string"
        },
        {
         "name": "Count",
         "rawType": "int64",
         "type": "integer"
        }
       ],
       "conversionMethod": "pd.DataFrame",
       "ref": "1af91eba-88e8-4410-b14d-02e2209a1cf5",
       "rows": [
        [
         "0",
         "gender",
         "1000"
        ],
        [
         "1",
         "race/ethnicity",
         "1000"
        ],
        [
         "2",
         "parental level of education",
         "1000"
        ],
        [
         "3",
         "lunch",
         "1000"
        ],
        [
         "4",
         "test preparation course",
         "1000"
        ],
        [
         "5",
         "math score",
         "992"
        ],
        [
         "6",
         "reading score",
         "994"
        ],
        [
         "7",
         "writing score",
         "991"
        ]
       ],
       "shape": {
        "columns": 2,
        "rows": 8
       }
      },
      "text/html": [
       "<div>\n",
       "<style scoped>\n",
       "    .dataframe tbody tr th:only-of-type {\n",
       "        vertical-align: middle;\n",
       "    }\n",
       "\n",
       "    .dataframe tbody tr th {\n",
       "        vertical-align: top;\n",
       "    }\n",
       "\n",
       "    .dataframe thead th {\n",
       "        text-align: right;\n",
       "    }\n",
       "</style>\n",
       "<table border=\"1\" class=\"dataframe\">\n",
       "  <thead>\n",
       "    <tr style=\"text-align: right;\">\n",
       "      <th></th>\n",
       "      <th>Features</th>\n",
       "      <th>Count</th>\n",
       "    </tr>\n",
       "  </thead>\n",
       "  <tbody>\n",
       "    <tr>\n",
       "      <th>0</th>\n",
       "      <td>gender</td>\n",
       "      <td>1000</td>\n",
       "    </tr>\n",
       "    <tr>\n",
       "      <th>1</th>\n",
       "      <td>race/ethnicity</td>\n",
       "      <td>1000</td>\n",
       "    </tr>\n",
       "    <tr>\n",
       "      <th>2</th>\n",
       "      <td>parental level of education</td>\n",
       "      <td>1000</td>\n",
       "    </tr>\n",
       "    <tr>\n",
       "      <th>3</th>\n",
       "      <td>lunch</td>\n",
       "      <td>1000</td>\n",
       "    </tr>\n",
       "    <tr>\n",
       "      <th>4</th>\n",
       "      <td>test preparation course</td>\n",
       "      <td>1000</td>\n",
       "    </tr>\n",
       "    <tr>\n",
       "      <th>5</th>\n",
       "      <td>math score</td>\n",
       "      <td>992</td>\n",
       "    </tr>\n",
       "    <tr>\n",
       "      <th>6</th>\n",
       "      <td>reading score</td>\n",
       "      <td>994</td>\n",
       "    </tr>\n",
       "    <tr>\n",
       "      <th>7</th>\n",
       "      <td>writing score</td>\n",
       "      <td>991</td>\n",
       "    </tr>\n",
       "  </tbody>\n",
       "</table>\n",
       "</div>"
      ],
      "text/plain": [
       "                      Features  Count\n",
       "0                       gender   1000\n",
       "1               race/ethnicity   1000\n",
       "2  parental level of education   1000\n",
       "3                        lunch   1000\n",
       "4      test preparation course   1000\n",
       "5                   math score    992\n",
       "6                reading score    994\n",
       "7                writing score    991"
      ]
     },
     "execution_count": 12,
     "metadata": {},
     "output_type": "execute_result"
    }
   ],
   "source": [
    "non_null_values = df.notnull().sum()\n",
    "non_null_df = pd.DataFrame(non_null_values).reset_index()\n",
    "non_null_df.columns = [\"Features\", \"Count\"]\n",
    "non_null_df"
   ]
  },
  {
   "cell_type": "code",
   "execution_count": 13,
   "id": "41f8b500",
   "metadata": {},
   "outputs": [
    {
     "data": {
      "text/plain": [
       "Text(0, 0.5, 'Count')"
      ]
     },
     "execution_count": 13,
     "metadata": {},
     "output_type": "execute_result"
    },
    {
     "data": {
      "image/png": "[encoded data removed]",
      "text/plain": [
       "<Figure size 2000x1000 with 1 Axes>"
      ]
     },
     "metadata": {},
     "output_type": "display_data"
    }
   ],
   "source": [
    "plt.figure(figsize=(20, 10))\n",
    "sns.barplot(x=null_values.index, y=null_values, color=\"#3894FF\", edgecolor=\"black\")\n",
    "plt.title(\"Missing Values\")\n",
    "plt.xlabel(\"Features\")\n",
    "plt.ylabel(\"Count\")"
   ]
  },
  {
   "cell_type": "code",
   "execution_count": 14,
   "id": "59a7aef7",
   "metadata": {},
   "outputs": [
    {
     "data": {
      "text/plain": [
       "Text(0, 0.5, 'Count')"
      ]
     },
     "execution_count": 14,
     "metadata": {},
     "output_type": "execute_result"
    },
    {
     "data": {
      "image/png": "[encoded data removed]",
      "text/plain": [
       "<Figure size 2000x1000 with 1 Axes>"
      ]
     },
     "metadata": {},
     "output_type": "display_data"
    }
   ],
   "source": [
    "plt.figure(figsize=(20, 10))\n",
    "sns.barplot(\n",
    "    x=non_null_values.index, y=non_null_values, color=\"#3894FF\", edgecolor=\"black\"\n",
    ")\n",
    "plt.title(\"Non Null Values\")\n",
    "plt.xlabel(\"Features\")\n",
    "plt.ylabel(\"Count\")"
   ]
  },
  {
   "cell_type": "code",
   "execution_count": 15,
   "id": "307a1587",
   "metadata": {},
   "outputs": [
    {
     "data": {
      "application/vnd.microsoft.datawrangler.viewer.v0+json": {
       "columns": [
        {
         "name": "index",
         "rawType": "int64",
         "type": "integer"
        },
        {
         "name": "math score",
         "rawType": "object",
         "type": "string"
        },
        {
         "name": "count",
         "rawType": "int64",
         "type": "integer"
        }
       ],
       "conversionMethod": "pd.DataFrame",
       "ref": "c7c0007a-1029-4ec9-9950-f67661f0ea4e",
       "rows": [
        [
         "0",
         "65",
         "35"
        ],
        [
         "1",
         "?",
         "35"
        ],
        [
         "2",
         "62",
         "33"
        ],
        [
         "3",
         "59",
         "31"
        ],
        [
         "4",
         "69",
         "29"
        ],
        [
         "5",
         "68",
         "26"
        ],
        [
         "6",
         "63",
         "25"
        ],
        [
         "7",
         "71",
         "25"
        ],
        [
         "8",
         "61",
         "25"
        ],
        [
         "9",
         "58",
         "25"
        ],
        [
         "10",
         "73",
         "25"
        ],
        [
         "11",
         "74",
         "24"
        ],
        [
         "12",
         "77",
         "24"
        ],
        [
         "13",
         "67",
         "24"
        ],
        [
         "14",
         "53",
         "24"
        ],
        [
         "15",
         "66",
         "23"
        ],
        [
         "16",
         "81",
         "21"
        ],
        [
         "17",
         "79",
         "20"
        ],
        [
         "18",
         "76",
         "20"
        ],
        [
         "19",
         "75",
         "19"
        ],
        [
         "20",
         "64",
         "19"
        ],
        [
         "21",
         "57",
         "18"
        ],
        [
         "22",
         "72",
         "18"
        ],
        [
         "23",
         "52",
         "18"
        ],
        [
         "24",
         "82",
         "17"
        ],
        [
         "25",
         "49",
         "17"
        ],
        [
         "26",
         "80",
         "17"
        ],
        [
         "27",
         "70",
         "17"
        ],
        [
         "28",
         "55",
         "16"
        ],
        [
         "29",
         "54",
         "16"
        ],
        [
         "30",
         "87",
         "16"
        ],
        [
         "31",
         "60",
         "16"
        ],
        [
         "32",
         "88",
         "15"
        ],
        [
         "33",
         "85",
         "14"
        ],
        [
         "34",
         "50",
         "13"
        ],
        [
         "35",
         "78",
         "13"
        ],
        [
         "36",
         "84",
         "11"
        ],
        [
         "37",
         "48",
         "11"
        ],
        [
         "38",
         "46",
         "10"
        ],
        [
         "39",
         "51",
         "10"
        ],
        [
         "40",
         "40",
         "10"
        ],
        [
         "41",
         "45",
         "9"
        ],
        [
         "42",
         "56",
         "9"
        ],
        [
         "43",
         "91",
         "8"
        ],
        [
         "44",
         "47",
         "8"
        ],
        [
         "45",
         "83",
         "8"
        ],
        [
         "46",
         "94",
         "7"
        ],
        [
         "47",
         "86",
         "7"
        ],
        [
         "48",
         "100",
         "7"
        ],
        [
         "49",
         "90",
         "7"
        ]
       ],
       "shape": {
        "columns": 2,
        "rows": 85
       }
      },
      "text/html": [
       "<div>\n",
       "<style scoped>\n",
       "    .dataframe tbody tr th:only-of-type {\n",
       "        vertical-align: middle;\n",
       "    }\n",
       "\n",
       "    .dataframe tbody tr th {\n",
       "        vertical-align: top;\n",
       "    }\n",
       "\n",
       "    .dataframe thead th {\n",
       "        text-align: right;\n",
       "    }\n",
       "</style>\n",
       "<table border=\"1\" class=\"dataframe\">\n",
       "  <thead>\n",
       "    <tr style=\"text-align: right;\">\n",
       "      <th></th>\n",
       "      <th>math score</th>\n",
       "      <th>count</th>\n",
       "    </tr>\n",
       "  </thead>\n",
       "  <tbody>\n",
       "    <tr>\n",
       "      <th>0</th>\n",
       "      <td>65</td>\n",
       "      <td>35</td>\n",
       "    </tr>\n",
       "    <tr>\n",
       "      <th>1</th>\n",
       "      <td>?</td>\n",
       "      <td>35</td>\n",
       "    </tr>\n",
       "    <tr>\n",
       "      <th>2</th>\n",
       "      <td>62</td>\n",
       "      <td>33</td>\n",
       "    </tr>\n",
       "    <tr>\n",
       "      <th>3</th>\n",
       "      <td>59</td>\n",
       "      <td>31</td>\n",
       "    </tr>\n",
       "    <tr>\n",
       "      <th>4</th>\n",
       "      <td>69</td>\n",
       "      <td>29</td>\n",
       "    </tr>\n",
       "    <tr>\n",
       "      <th>...</th>\n",
       "      <td>...</td>\n",
       "      <td>...</td>\n",
       "    </tr>\n",
       "    <tr>\n",
       "      <th>80</th>\n",
       "      <td>123</td>\n",
       "      <td>1</td>\n",
       "    </tr>\n",
       "    <tr>\n",
       "      <th>81</th>\n",
       "      <td>24</td>\n",
       "      <td>1</td>\n",
       "    </tr>\n",
       "    <tr>\n",
       "      <th>82</th>\n",
       "      <td>28</td>\n",
       "      <td>1</td>\n",
       "    </tr>\n",
       "    <tr>\n",
       "      <th>83</th>\n",
       "      <td>0</td>\n",
       "      <td>1</td>\n",
       "    </tr>\n",
       "    <tr>\n",
       "      <th>84</th>\n",
       "      <td>8</td>\n",
       "      <td>1</td>\n",
       "    </tr>\n",
       "  </tbody>\n",
       "</table>\n",
       "<p>85 rows × 2 columns</p>\n",
       "</div>"
      ],
      "text/plain": [
       "   math score  count\n",
       "0          65     35\n",
       "1           ?     35\n",
       "2          62     33\n",
       "3          59     31\n",
       "4          69     29\n",
       "..        ...    ...\n",
       "80        123      1\n",
       "81         24      1\n",
       "82         28      1\n",
       "83          0      1\n",
       "84          8      1\n",
       "\n",
       "[85 rows x 2 columns]"
      ]
     },
     "execution_count": 15,
     "metadata": {},
     "output_type": "execute_result"
    }
   ],
   "source": [
    "df[\"math score\"].value_counts().reset_index()"
   ]
  },
  {
   "cell_type": "code",
   "execution_count": 16,
   "id": "9be8d5df",
   "metadata": {},
   "outputs": [],
   "source": [
    "df[\"math score\"] = pd.to_numeric(df[\"math score\"], errors=\"coerce\")"
   ]
  },
  {
   "cell_type": "code",
   "execution_count": 17,
   "id": "9c117610",
   "metadata": {},
   "outputs": [
    {
     "data": {
      "application/vnd.microsoft.datawrangler.viewer.v0+json": {
       "columns": [
        {
         "name": "index",
         "rawType": "int64",
         "type": "integer"
        },
        {
         "name": "math score",
         "rawType": "float64",
         "type": "float"
        },
        {
         "name": "count",
         "rawType": "int64",
         "type": "integer"
        }
       ],
       "conversionMethod": "pd.DataFrame",
       "ref": "22eecb46-37c6-4348-bf48-65720e6d3665",
       "rows": [
        [
         "0",
         "65.0",
         "35"
        ],
        [
         "1",
         "62.0",
         "33"
        ],
        [
         "2",
         "59.0",
         "31"
        ],
        [
         "3",
         "69.0",
         "29"
        ],
        [
         "4",
         "68.0",
         "26"
        ],
        [
         "5",
         "63.0",
         "25"
        ],
        [
         "6",
         "73.0",
         "25"
        ],
        [
         "7",
         "58.0",
         "25"
        ],
        [
         "8",
         "61.0",
         "25"
        ],
        [
         "9",
         "71.0",
         "25"
        ],
        [
         "10",
         "53.0",
         "24"
        ],
        [
         "11",
         "77.0",
         "24"
        ],
        [
         "12",
         "74.0",
         "24"
        ],
        [
         "13",
         "67.0",
         "24"
        ],
        [
         "14",
         "66.0",
         "23"
        ],
        [
         "15",
         "81.0",
         "21"
        ],
        [
         "16",
         "79.0",
         "20"
        ],
        [
         "17",
         "76.0",
         "20"
        ],
        [
         "18",
         "64.0",
         "19"
        ],
        [
         "19",
         "75.0",
         "19"
        ],
        [
         "20",
         "57.0",
         "18"
        ],
        [
         "21",
         "72.0",
         "18"
        ],
        [
         "22",
         "52.0",
         "18"
        ],
        [
         "23",
         "82.0",
         "17"
        ],
        [
         "24",
         "49.0",
         "17"
        ],
        [
         "25",
         "80.0",
         "17"
        ],
        [
         "26",
         "70.0",
         "17"
        ],
        [
         "27",
         "55.0",
         "16"
        ],
        [
         "28",
         "60.0",
         "16"
        ],
        [
         "29",
         "54.0",
         "16"
        ],
        [
         "30",
         "87.0",
         "16"
        ],
        [
         "31",
         "88.0",
         "15"
        ],
        [
         "32",
         "85.0",
         "14"
        ],
        [
         "33",
         "78.0",
         "13"
        ],
        [
         "34",
         "50.0",
         "13"
        ],
        [
         "35",
         "48.0",
         "11"
        ],
        [
         "36",
         "84.0",
         "11"
        ],
        [
         "37",
         "46.0",
         "10"
        ],
        [
         "38",
         "40.0",
         "10"
        ],
        [
         "39",
         "51.0",
         "10"
        ],
        [
         "40",
         "56.0",
         "9"
        ],
        [
         "41",
         "45.0",
         "9"
        ],
        [
         "42",
         "91.0",
         "8"
        ],
        [
         "43",
         "83.0",
         "8"
        ],
        [
         "44",
         "47.0",
         "8"
        ],
        [
         "45",
         "100.0",
         "7"
        ],
        [
         "46",
         "90.0",
         "7"
        ],
        [
         "47",
         "86.0",
         "7"
        ],
        [
         "48",
         "44.0",
         "7"
        ],
        [
         "49",
         "94.0",
         "7"
        ]
       ],
       "shape": {
        "columns": 2,
        "rows": 84
       }
      },
      "text/html": [
       "<div>\n",
       "<style scoped>\n",
       "    .dataframe tbody tr th:only-of-type {\n",
       "        vertical-align: middle;\n",
       "    }\n",
       "\n",
       "    .dataframe tbody tr th {\n",
       "        vertical-align: top;\n",
       "    }\n",
       "\n",
       "    .dataframe thead th {\n",
       "        text-align: right;\n",
       "    }\n",
       "</style>\n",
       "<table border=\"1\" class=\"dataframe\">\n",
       "  <thead>\n",
       "    <tr style=\"text-align: right;\">\n",
       "      <th></th>\n",
       "      <th>math score</th>\n",
       "      <th>count</th>\n",
       "    </tr>\n",
       "  </thead>\n",
       "  <tbody>\n",
       "    <tr>\n",
       "      <th>0</th>\n",
       "      <td>65.0</td>\n",
       "      <td>35</td>\n",
       "    </tr>\n",
       "    <tr>\n",
       "      <th>1</th>\n",
       "      <td>62.0</td>\n",
       "      <td>33</td>\n",
       "    </tr>\n",
       "    <tr>\n",
       "      <th>2</th>\n",
       "      <td>59.0</td>\n",
       "      <td>31</td>\n",
       "    </tr>\n",
       "    <tr>\n",
       "      <th>3</th>\n",
       "      <td>69.0</td>\n",
       "      <td>29</td>\n",
       "    </tr>\n",
       "    <tr>\n",
       "      <th>4</th>\n",
       "      <td>68.0</td>\n",
       "      <td>26</td>\n",
       "    </tr>\n",
       "    <tr>\n",
       "      <th>...</th>\n",
       "      <td>...</td>\n",
       "      <td>...</td>\n",
       "    </tr>\n",
       "    <tr>\n",
       "      <th>79</th>\n",
       "      <td>0.0</td>\n",
       "      <td>1</td>\n",
       "    </tr>\n",
       "    <tr>\n",
       "      <th>80</th>\n",
       "      <td>22.0</td>\n",
       "      <td>1</td>\n",
       "    </tr>\n",
       "    <tr>\n",
       "      <th>81</th>\n",
       "      <td>19.0</td>\n",
       "      <td>1</td>\n",
       "    </tr>\n",
       "    <tr>\n",
       "      <th>82</th>\n",
       "      <td>23.0</td>\n",
       "      <td>1</td>\n",
       "    </tr>\n",
       "    <tr>\n",
       "      <th>83</th>\n",
       "      <td>8.0</td>\n",
       "      <td>1</td>\n",
       "    </tr>\n",
       "  </tbody>\n",
       "</table>\n",
       "<p>84 rows × 2 columns</p>\n",
       "</div>"
      ],
      "text/plain": [
       "    math score  count\n",
       "0         65.0     35\n",
       "1         62.0     33\n",
       "2         59.0     31\n",
       "3         69.0     29\n",
       "4         68.0     26\n",
       "..         ...    ...\n",
       "79         0.0      1\n",
       "80        22.0      1\n",
       "81        19.0      1\n",
       "82        23.0      1\n",
       "83         8.0      1\n",
       "\n",
       "[84 rows x 2 columns]"
      ]
     },
     "execution_count": 17,
     "metadata": {},
     "output_type": "execute_result"
    }
   ],
   "source": [
    "df[\"math score\"].value_counts().reset_index()"
   ]
  },
  {
   "cell_type": "code",
   "execution_count": 18,
   "id": "022595f7",
   "metadata": {},
   "outputs": [
    {
     "data": {
      "text/plain": [
       "65"
      ]
     },
     "execution_count": 18,
     "metadata": {},
     "output_type": "execute_result"
    }
   ],
   "source": [
    "mean_math_score = int(\n",
    "    df[(df[\"math score\"] > 0) & (df[\"math score\"] < 100)][\"math score\"].mean()\n",
    ")\n",
    "mean_math_score"
   ]
  },
  {
   "cell_type": "code",
   "execution_count": 19,
   "id": "39fbf552",
   "metadata": {},
   "outputs": [],
   "source": [
    "df[\"math score\"] = df[\"math score\"].fillna(mean_math_score).astype(int)"
   ]
  },
  {
   "cell_type": "code",
   "execution_count": 20,
   "id": "35ebba76",
   "metadata": {},
   "outputs": [
    {
     "data": {
      "text/plain": [
       "gender                         0\n",
       "race/ethnicity                 0\n",
       "parental level of education    0\n",
       "lunch                          0\n",
       "test preparation course        0\n",
       "math score                     0\n",
       "reading score                  6\n",
       "writing score                  9\n",
       "dtype: int64"
      ]
     },
     "execution_count": 20,
     "metadata": {},
     "output_type": "execute_result"
    }
   ],
   "source": [
    "df.isnull().sum()"
   ]
  },
  {
   "cell_type": "code",
   "execution_count": 21,
   "id": "4aa15b83",
   "metadata": {},
   "outputs": [
    {
     "data": {
      "text/plain": [
       "np.float64(66.267)"
      ]
     },
     "execution_count": 21,
     "metadata": {},
     "output_type": "execute_result"
    }
   ],
   "source": [
    "df[\"math score\"].mean()"
   ]
  },
  {
   "cell_type": "code",
   "execution_count": 22,
   "id": "3e0f85dd",
   "metadata": {},
   "outputs": [
    {
     "name": "stdout",
     "output_type": "stream",
     "text": [
      "3.0 100.0\n"
     ]
    }
   ],
   "source": [
    "print(df[\"reading score\"].min(), df[\"reading score\"].max())"
   ]
  },
  {
   "cell_type": "code",
   "execution_count": 23,
   "id": "c056ebdb",
   "metadata": {},
   "outputs": [
    {
     "name": "stdout",
     "output_type": "stream",
     "text": [
      "69.5\n"
     ]
    }
   ],
   "source": [
    "print(df[\"reading score\"].median())"
   ]
  },
  {
   "cell_type": "code",
   "execution_count": 24,
   "id": "9e09a07f",
   "metadata": {},
   "outputs": [],
   "source": [
    "from sklearn.impute import SimpleImputer\n",
    "\n",
    "imputer = SimpleImputer(strategy=\"median\")\n",
    "df[[\"reading score\"]] = imputer.fit_transform(df[[\"reading score\"]]).astype(int)"
   ]
  },
  {
   "cell_type": "code",
   "execution_count": 25,
   "id": "5609ec05",
   "metadata": {},
   "outputs": [
    {
     "name": "stdout",
     "output_type": "stream",
     "text": [
      "69.0\n"
     ]
    }
   ],
   "source": [
    "print(df[\"reading score\"].median())"
   ]
  },
  {
   "cell_type": "code",
   "execution_count": 26,
   "id": "b4448f0d",
   "metadata": {},
   "outputs": [
    {
     "data": {
      "text/plain": [
       "gender                         0\n",
       "race/ethnicity                 0\n",
       "parental level of education    0\n",
       "lunch                          0\n",
       "test preparation course        0\n",
       "math score                     0\n",
       "reading score                  0\n",
       "writing score                  9\n",
       "dtype: int64"
      ]
     },
     "execution_count": 26,
     "metadata": {},
     "output_type": "execute_result"
    }
   ],
   "source": [
    "df.isnull().sum()"
   ]
  },
  {
   "cell_type": "code",
   "execution_count": 27,
   "id": "687abfa2",
   "metadata": {},
   "outputs": [
    {
     "name": "stdout",
     "output_type": "stream",
     "text": [
      "10.0 567.0\n"
     ]
    }
   ],
   "source": [
    "print(df[\"writing score\"].min(), df[\"writing score\"].max())"
   ]
  },
  {
   "cell_type": "code",
   "execution_count": null,
   "id": "e892cfd5",
   "metadata": {},
   "outputs": [
    {
     "data": {
      "text/plain": [
       "74"
      ]
     },
     "execution_count": 28,
     "metadata": {},
     "output_type": "execute_result"
    }
   ],
   "source": [
    "mode_writing_score = int(\n",
    "    df[(df[\"writing score\"] > 0) & (df[\"writing score\"] < 100)][\"writing score\"]\n",
    "    .mode()\n",
    "    .mean()\n",
    ")\n",
    "mode_writing_score"
   ]
  },
  {
   "cell_type": "code",
   "execution_count": 29,
   "id": "89ff34bd",
   "metadata": {},
   "outputs": [],
   "source": [
    "df[\"writing score\"] = df[\"writing score\"].fillna(mode_writing_score).astype(int)"
   ]
  },
  {
   "cell_type": "code",
   "execution_count": 30,
   "id": "b98f9d17",
   "metadata": {},
   "outputs": [
    {
     "name": "stdout",
     "output_type": "stream",
     "text": [
      "0    74\n",
      "Name: writing score, dtype: int64\n"
     ]
    }
   ],
   "source": [
    "print(df[\"writing score\"].mode())"
   ]
  },
  {
   "cell_type": "code",
   "execution_count": 31,
   "id": "c6830ba3",
   "metadata": {},
   "outputs": [
    {
     "data": {
      "text/plain": [
       "gender                         0\n",
       "race/ethnicity                 0\n",
       "parental level of education    0\n",
       "lunch                          0\n",
       "test preparation course        0\n",
       "math score                     0\n",
       "reading score                  0\n",
       "writing score                  0\n",
       "dtype: int64"
      ]
     },
     "execution_count": 31,
     "metadata": {},
     "output_type": "execute_result"
    }
   ],
   "source": [
    "df.isnull().sum()"
   ]
  },
  {
   "cell_type": "code",
   "execution_count": 32,
   "id": "14d6b23b",
   "metadata": {},
   "outputs": [
    {
     "data": {
      "text/plain": [
       "gender                         object\n",
       "race/ethnicity                 object\n",
       "parental level of education    object\n",
       "lunch                          object\n",
       "test preparation course        object\n",
       "math score                      int64\n",
       "reading score                   int64\n",
       "writing score                   int64\n",
       "dtype: object"
      ]
     },
     "execution_count": 32,
     "metadata": {},
     "output_type": "execute_result"
    }
   ],
   "source": [
    "df.dtypes"
   ]
  },
  {
   "cell_type": "code",
   "execution_count": 33,
   "id": "2aa44270",
   "metadata": {},
   "outputs": [],
   "source": [
    "numeric_df = df.select_dtypes(include=[\"int64\"])"
   ]
  },
  {
   "cell_type": "code",
   "execution_count": 34,
   "id": "4bf81f12",
   "metadata": {},
   "outputs": [
    {
     "data": {
      "image/png": "[encoded data removed]",
      "text/plain": [
       "<Figure size 2000x500 with 1 Axes>"
      ]
     },
     "metadata": {},
     "output_type": "display_data"
    },
    {
     "data": {
      "image/png": "[encoded data removed]",
      "text/plain": [
       "<Figure size 2000x500 with 1 Axes>"
      ]
     },
     "metadata": {},
     "output_type": "display_data"
    },
    {
     "data": {
      "image/png": "[encoded data removed]",
      "text/plain": [
       "<Figure size 2000x500 with 1 Axes>"
      ]
     },
     "metadata": {},
     "output_type": "display_data"
    }
   ],
   "source": [
    "for col in numeric_df:\n",
    "    plt.figure(figsize=(20, 5))\n",
    "    sns.boxplot(x=df[col], color=\"#3894FF\")\n",
    "    plt.title(f\"Boxplot of {col}\")\n",
    "    plt.show()"
   ]
  },
  {
   "cell_type": "code",
   "execution_count": null,
   "id": "caf28934",
   "metadata": {},
   "outputs": [
    {
     "data": {
      "image/png": "[encoded data removed]",
      "text/plain": [
       "<Figure size 2000x500 with 1 Axes>"
      ]
     },
     "metadata": {},
     "output_type": "display_data"
    },
    {
     "data": {
      "image/png": "[encoded data removed]",
      "text/plain": [
       "<Figure size 2000x500 with 1 Axes>"
      ]
     },
     "metadata": {},
     "output_type": "display_data"
    },
    {
     "data": {
      "image/png": "[encoded data removed]",
      "text/plain": [
       "<Figure size 2000x500 with 1 Axes>"
      ]
     },
     "metadata": {},
     "output_type": "display_data"
    }
   ],
   "source": [
    "for col in numeric_df.columns:\n",
    "    plt.figure(figsize=(20, 5))\n",
    "    sns.kdeplot(df[col], color=\"#3894FF77\", label=col, fill=True)\n",
    "    mean = df[col].mean()\n",
    "    median = df[col].median()\n",
    "    mode = df[col].mode().mean()\n",
    "    min = df[col].min()\n",
    "    max = df[col].max()\n",
    "\n",
    "    plt.axvline(\n",
    "        mean, color=\"#E74B1977\", linestyle=\"-.\", linewidth=2, label=f\"Mean: {mean:.2f}\"\n",
    "    )\n",
    "    plt.axvline(\n",
    "        median,\n",
    "        color=\"#69FCCB77\",\n",
    "        linestyle=\"-\",\n",
    "        linewidth=2,\n",
    "        label=f\"Median: {median:.2f}\",\n",
    "    )\n",
    "    plt.axvline(\n",
    "        mode, color=\"#F2940077\", linestyle=\":\", linewidth=2, label=f\"Mode: {mode:.2f}\"\n",
    "    )"
   ]
  },
  {
   "cell_type": "code",
   "execution_count": null,
   "id": "d809d693",
   "metadata": {},
   "outputs": [],
   "source": [
    "mean_df = numeric_df.mean()\n",
    "median_df = numeric_df.median()\n",
    "mode_df = numeric_df.mode().mean()\n",
    "std_df = numeric_df.std()\n",
    "z_score = (numeric_df - mean_df) / std_df"
   ]
  },
  {
   "cell_type": "code",
   "execution_count": 37,
   "id": "709db59a",
   "metadata": {},
   "outputs": [
    {
     "data": {
      "application/vnd.microsoft.datawrangler.viewer.v0+json": {
       "columns": [
        {
         "name": "index",
         "rawType": "object",
         "type": "string"
        },
        {
         "name": "Mean",
         "rawType": "float64",
         "type": "float"
        },
        {
         "name": "Median",
         "rawType": "float64",
         "type": "float"
        },
        {
         "name": "Mode",
         "rawType": "int64",
         "type": "integer"
        },
        {
         "name": "Std Dev",
         "rawType": "float64",
         "type": "float"
        }
       ],
       "conversionMethod": "pd.DataFrame",
       "ref": "dfc4a836-56f3-4f25-ae6a-55b2c9245e5b",
       "rows": [
        [
         "math score",
         "66.267",
         "65.0",
         "65",
         "17.884394386239713"
        ],
        [
         "reading score",
         "68.014",
         "69.0",
         "72",
         "16.552516116584506"
        ],
        [
         "writing score",
         "69.528",
         "69.0",
         "74",
         "29.433374586335482"
        ]
       ],
       "shape": {
        "columns": 4,
        "rows": 3
       }
      },
      "text/html": [
       "<div>\n",
       "<style scoped>\n",
       "    .dataframe tbody tr th:only-of-type {\n",
       "        vertical-align: middle;\n",
       "    }\n",
       "\n",
       "    .dataframe tbody tr th {\n",
       "        vertical-align: top;\n",
       "    }\n",
       "\n",
       "    .dataframe thead th {\n",
       "        text-align: right;\n",
       "    }\n",
       "</style>\n",
       "<table border=\"1\" class=\"dataframe\">\n",
       "  <thead>\n",
       "    <tr style=\"text-align: right;\">\n",
       "      <th></th>\n",
       "      <th>Mean</th>\n",
       "      <th>Median</th>\n",
       "      <th>Mode</th>\n",
       "      <th>Std Dev</th>\n",
       "    </tr>\n",
       "  </thead>\n",
       "  <tbody>\n",
       "    <tr>\n",
       "      <th>math score</th>\n",
       "      <td>66.267</td>\n",
       "      <td>65.0</td>\n",
       "      <td>65</td>\n",
       "      <td>17.884394</td>\n",
       "    </tr>\n",
       "    <tr>\n",
       "      <th>reading score</th>\n",
       "      <td>68.014</td>\n",
       "      <td>69.0</td>\n",
       "      <td>72</td>\n",
       "      <td>16.552516</td>\n",
       "    </tr>\n",
       "    <tr>\n",
       "      <th>writing score</th>\n",
       "      <td>69.528</td>\n",
       "      <td>69.0</td>\n",
       "      <td>74</td>\n",
       "      <td>29.433375</td>\n",
       "    </tr>\n",
       "  </tbody>\n",
       "</table>\n",
       "</div>"
      ],
      "text/plain": [
       "                 Mean  Median  Mode    Std Dev\n",
       "math score     66.267    65.0    65  17.884394\n",
       "reading score  68.014    69.0    72  16.552516\n",
       "writing score  69.528    69.0    74  29.433375"
      ]
     },
     "execution_count": 37,
     "metadata": {},
     "output_type": "execute_result"
    }
   ],
   "source": [
    "summary_df = pd.DataFrame(\n",
    "    {\"Mean\": mean_df, \"Median\": median_df, \"Mode\": mode_df, \"Std Dev\": std_df}\n",
    ")\n",
    "\n",
    "summary_df = summary_df[[\"Mean\", \"Median\", \"Mode\", \"Std Dev\"]]\n",
    "\n",
    "summary_df"
   ]
  },
  {
   "cell_type": "code",
   "execution_count": 38,
   "id": "bcaef470",
   "metadata": {},
   "outputs": [],
   "source": [
    "def detect_outliers_iqr(data):\n",
    "\n",
    "    q1 = np.percentile(data, 25)\n",
    "    q3 = np.percentile(data, 75)\n",
    "\n",
    "    iqr = q3 - q1\n",
    "\n",
    "    lower_bound = q1 - (1.5 * iqr)\n",
    "    upper_bound = q3 + (1.5 * iqr)\n",
    "\n",
    "    return data[(data < lower_bound) | (data > upper_bound)]"
   ]
  },
  {
   "cell_type": "code",
   "execution_count": 39,
   "id": "f8d5af9e",
   "metadata": {},
   "outputs": [
    {
     "name": "stdout",
     "output_type": "stream",
     "text": [
      "IQR Outliers:\n",
      "\tmath score: [0, 27, 22, 28, 24, 27, 113, 123, -89, 26, 334, 19, 23, 8]\n",
      "\treading score: [22, 22, 12, 12, 13, 14, 9, 8, 7, 6, 4, 3, 5, 6, 22, 11, 11, 12, 12, 17, 26, 23, 24, 24]\n",
      "\twriting score: [10, 22, 19, 112, 114, 455, 567, 15, 554, 23]\n",
      "Total outliers:  48\n"
     ]
    }
   ],
   "source": [
    "print(\"IQR Outliers:\")\n",
    "outliers_iqr_counter = 0\n",
    "for col in numeric_df:\n",
    "    outliers_iqr = detect_outliers_iqr(df[col])\n",
    "\n",
    "    if len(outliers_iqr) > 0:\n",
    "        print(f\"\\t{col}: {list(outliers_iqr)}\")\n",
    "        outliers_iqr_counter += len(outliers_iqr)\n",
    "    else:\n",
    "        print(\"No outliers\")\n",
    "print(\"Total outliers: \", outliers_iqr_counter)"
   ]
  },
  {
   "cell_type": "code",
   "execution_count": 40,
   "id": "f3bf1fb3",
   "metadata": {},
   "outputs": [],
   "source": [
    "def detect_outliers_zscore(data):\n",
    "    mean = np.mean(data)\n",
    "    std_dev = np.std(data)\n",
    "\n",
    "    z_scores = (data - mean) / std_dev\n",
    "    outliers = data[np.abs(z_scores) > 3]\n",
    "\n",
    "    return outliers"
   ]
  },
  {
   "cell_type": "code",
   "execution_count": 41,
   "id": "904f8934",
   "metadata": {},
   "outputs": [
    {
     "name": "stdout",
     "output_type": "stream",
     "text": [
      "Z Score Outliers:\n",
      "\tmath score: [0, 123, -89, 334, 8]\n",
      "\treading score: [12, 12, 13, 14, 9, 8, 7, 6, 4, 3, 5, 6, 11, 11, 12, 12, 17]\n",
      "\twriting score: [455, 567, 554]\n",
      "Total outliers:  73\n"
     ]
    }
   ],
   "source": [
    "print(\"Z Score Outliers:\")\n",
    "outliers_z_score_counter = 0\n",
    "for col in numeric_df:\n",
    "    outliers_z_score = detect_outliers_zscore(df[col])\n",
    "\n",
    "    if len(outliers_z_score) > 0:\n",
    "        outliers_iqr_counter += len(outliers_z_score)\n",
    "        print(f\"\\t{col}: {list(outliers_z_score)}\")\n",
    "    else:\n",
    "        print(\"No outliers\")\n",
    "\n",
    "print(\"Total outliers: \", outliers_iqr_counter)"
   ]
  },
  {
   "cell_type": "code",
   "execution_count": 42,
   "id": "5aaca1e1",
   "metadata": {},
   "outputs": [],
   "source": [
    "from sklearn.preprocessing import StandardScaler\n",
    "\n",
    "\n",
    "def detect_outliers_standard_scaler(data, threshold=3):\n",
    "    data = data.values.reshape(-1, 1)\n",
    "\n",
    "    scaler = StandardScaler()\n",
    "    scaled_data = scaler.fit_transform(data)\n",
    "\n",
    "    outlier_mask = (scaled_data.flatten() < -threshold) | (\n",
    "        scaled_data.flatten() > threshold\n",
    "    )\n",
    "\n",
    "    outliers = data[outlier_mask].flatten()\n",
    "\n",
    "    return outliers.tolist()"
   ]
  },
  {
   "cell_type": "code",
   "execution_count": 43,
   "id": "33d7552f",
   "metadata": {},
   "outputs": [
    {
     "name": "stdout",
     "output_type": "stream",
     "text": [
      "Standard Scalar Outliers:\n",
      "\tmath score: [0, 123, -89, 334, 8]\n",
      "\treading score: [12, 12, 13, 14, 9, 8, 7, 6, 4, 3, 5, 6, 11, 11, 12, 12, 17]\n",
      "\twriting score: [455, 567, 554]\n",
      "Total outliers:  73\n"
     ]
    }
   ],
   "source": [
    "print(\"Standard Scalar Outliers:\")\n",
    "outliers_std_counter = 0\n",
    "for col in numeric_df:\n",
    "    outliers_std = detect_outliers_standard_scaler(df[col])\n",
    "\n",
    "    if len(outliers_std) > 0:\n",
    "        outliers_std_counter += len(outliers_std)\n",
    "        print(f\"\\t{col}: {list(outliers_std)}\")\n",
    "    else:\n",
    "        print(f\"\\t{col}: No outliers\")\n",
    "\n",
    "print(\"Total outliers: \", outliers_iqr_counter)"
   ]
  },
  {
   "cell_type": "code",
   "execution_count": 44,
   "id": "0b27d5db",
   "metadata": {},
   "outputs": [],
   "source": [
    "for col in numeric_df.columns:\n",
    "    mean = np.mean(df[col])\n",
    "    std = np.std(df[col])\n",
    "\n",
    "    z_scores = (df[col] - mean) / std\n",
    "\n",
    "    df = df[np.abs(z_scores) < 3]\n",
    "    df[col] = df[col].clip(lower=0, upper=100)"
   ]
  },
  {
   "cell_type": "code",
   "execution_count": 45,
   "id": "f1eb76ae",
   "metadata": {},
   "outputs": [
    {
     "name": "stdout",
     "output_type": "stream",
     "text": [
      "19 100\n",
      "22 100\n",
      "15 100\n"
     ]
    }
   ],
   "source": [
    "for col in numeric_df.columns:\n",
    "    print(df[col].min(), df[col].max())"
   ]
  },
  {
   "cell_type": "code",
   "execution_count": 46,
   "id": "9d75763f",
   "metadata": {},
   "outputs": [
    {
     "data": {
      "application/vnd.microsoft.datawrangler.viewer.v0+json": {
       "columns": [
        {
         "name": "index",
         "rawType": "object",
         "type": "string"
        },
        {
         "name": "math score",
         "rawType": "float64",
         "type": "float"
        },
        {
         "name": "reading score",
         "rawType": "float64",
         "type": "float"
        },
        {
         "name": "writing score",
         "rawType": "float64",
         "type": "float"
        }
       ],
       "conversionMethod": "pd.DataFrame",
       "ref": "71af0e7d-6ba4-4150-a245-9572b561c672",
       "rows": [
        [
         "count",
         "976.0",
         "976.0",
         "976.0"
        ],
        [
         "mean",
         "66.16905737704919",
         "69.01434426229508",
         "68.14959016393442"
        ],
        [
         "std",
         "14.701372883136193",
         "14.718061437996647",
         "15.122615424183726"
        ],
        [
         "min",
         "19.0",
         "22.0",
         "15.0"
        ],
        [
         "25%",
         "57.0",
         "59.0",
         "57.0"
        ],
        [
         "50%",
         "65.0",
         "70.0",
         "69.0"
        ],
        [
         "75%",
         "76.0",
         "79.0",
         "79.0"
        ],
        [
         "max",
         "100.0",
         "100.0",
         "100.0"
        ]
       ],
       "shape": {
        "columns": 3,
        "rows": 8
       }
      },
      "text/html": [
       "<div>\n",
       "<style scoped>\n",
       "    .dataframe tbody tr th:only-of-type {\n",
       "        vertical-align: middle;\n",
       "    }\n",
       "\n",
       "    .dataframe tbody tr th {\n",
       "        vertical-align: top;\n",
       "    }\n",
       "\n",
       "    .dataframe thead th {\n",
       "        text-align: right;\n",
       "    }\n",
       "</style>\n",
       "<table border=\"1\" class=\"dataframe\">\n",
       "  <thead>\n",
       "    <tr style=\"text-align: right;\">\n",
       "      <th></th>\n",
       "      <th>math score</th>\n",
       "      <th>reading score</th>\n",
       "      <th>writing score</th>\n",
       "    </tr>\n",
       "  </thead>\n",
       "  <tbody>\n",
       "    <tr>\n",
       "      <th>count</th>\n",
       "      <td>976.000000</td>\n",
       "      <td>976.000000</td>\n",
       "      <td>976.000000</td>\n",
       "    </tr>\n",
       "    <tr>\n",
       "      <th>mean</th>\n",
       "      <td>66.169057</td>\n",
       "      <td>69.014344</td>\n",
       "      <td>68.149590</td>\n",
       "    </tr>\n",
       "    <tr>\n",
       "      <th>std</th>\n",
       "      <td>14.701373</td>\n",
       "      <td>14.718061</td>\n",
       "      <td>15.122615</td>\n",
       "    </tr>\n",
       "    <tr>\n",
       "      <th>min</th>\n",
       "      <td>19.000000</td>\n",
       "      <td>22.000000</td>\n",
       "      <td>15.000000</td>\n",
       "    </tr>\n",
       "    <tr>\n",
       "      <th>25%</th>\n",
       "      <td>57.000000</td>\n",
       "      <td>59.000000</td>\n",
       "      <td>57.000000</td>\n",
       "    </tr>\n",
       "    <tr>\n",
       "      <th>50%</th>\n",
       "      <td>65.000000</td>\n",
       "      <td>70.000000</td>\n",
       "      <td>69.000000</td>\n",
       "    </tr>\n",
       "    <tr>\n",
       "      <th>75%</th>\n",
       "      <td>76.000000</td>\n",
       "      <td>79.000000</td>\n",
       "      <td>79.000000</td>\n",
       "    </tr>\n",
       "    <tr>\n",
       "      <th>max</th>\n",
       "      <td>100.000000</td>\n",
       "      <td>100.000000</td>\n",
       "      <td>100.000000</td>\n",
       "    </tr>\n",
       "  </tbody>\n",
       "</table>\n",
       "</div>"
      ],
      "text/plain": [
       "       math score  reading score  writing score\n",
       "count  976.000000     976.000000     976.000000\n",
       "mean    66.169057      69.014344      68.149590\n",
       "std     14.701373      14.718061      15.122615\n",
       "min     19.000000      22.000000      15.000000\n",
       "25%     57.000000      59.000000      57.000000\n",
       "50%     65.000000      70.000000      69.000000\n",
       "75%     76.000000      79.000000      79.000000\n",
       "max    100.000000     100.000000     100.000000"
      ]
     },
     "execution_count": 46,
     "metadata": {},
     "output_type": "execute_result"
    }
   ],
   "source": [
    "df.describe()"
   ]
  },
  {
   "cell_type": "code",
   "execution_count": 47,
   "id": "5b0351d2",
   "metadata": {},
   "outputs": [
    {
     "data": {
      "image/png": "[encoded data removed]",
      "text/plain": [
       "<Figure size 2000x500 with 1 Axes>"
      ]
     },
     "metadata": {},
     "output_type": "display_data"
    },
    {
     "data": {
      "image/png": "[encoded data removed]",
      "text/plain": [
       "<Figure size 2000x500 with 1 Axes>"
      ]
     },
     "metadata": {},
     "output_type": "display_data"
    },
    {
     "data": {
      "image/png": "[encoded data removed]",
      "text/plain": [
       "<Figure size 2000x500 with 1 Axes>"
      ]
     },
     "metadata": {},
     "output_type": "display_data"
    }
   ],
   "source": [
    "for col in numeric_df.columns:\n",
    "    plt.figure(figsize=(20, 5))\n",
    "    sns.kdeplot(df[col], color=\"#3894FF77\", label=col, fill=True)\n",
    "    mean = df[col].mean()\n",
    "    median = df[col].median()\n",
    "    mode = df[col].mode()[0]\n",
    "    min = df[col].min()\n",
    "    max = df[col].max()\n",
    "\n",
    "    plt.axvline(\n",
    "        mean, color=\"#E74B1977\", linestyle=\"-.\", linewidth=2, label=f\"Mean: {mean:.2f}\"\n",
    "    )\n",
    "    plt.axvline(\n",
    "        median,\n",
    "        color=\"#69FCCB77\",\n",
    "        linestyle=\"-\",\n",
    "        linewidth=2,\n",
    "        label=f\"Median: {median:.2f}\",\n",
    "    )\n",
    "    plt.axvline(\n",
    "        mode, color=\"#F2940077\", linestyle=\":\", linewidth=2, label=f\"Mode: {mode:.2f}\"\n",
    "    )"
   ]
  },
  {
   "cell_type": "code",
   "execution_count": 48,
   "id": "a26a9daa",
   "metadata": {},
   "outputs": [
    {
     "data": {
      "application/vnd.microsoft.datawrangler.viewer.v0+json": {
       "columns": [
        {
         "name": "index",
         "rawType": "int64",
         "type": "integer"
        },
        {
         "name": "index",
         "rawType": "object",
         "type": "string"
        },
        {
         "name": "0",
         "rawType": "object",
         "type": "unknown"
        }
       ],
       "conversionMethod": "pd.DataFrame",
       "ref": "a5787bc3-45a8-4dc5-9f1a-a7da17aefa79",
       "rows": [
        [
         "0",
         "gender",
         "object"
        ],
        [
         "1",
         "race/ethnicity",
         "object"
        ],
        [
         "2",
         "parental level of education",
         "object"
        ],
        [
         "3",
         "lunch",
         "object"
        ],
        [
         "4",
         "test preparation course",
         "object"
        ],
        [
         "5",
         "math score",
         "int64"
        ],
        [
         "6",
         "reading score",
         "int64"
        ],
        [
         "7",
         "writing score",
         "int64"
        ]
       ],
       "shape": {
        "columns": 2,
        "rows": 8
       }
      },
      "text/html": [
       "<div>\n",
       "<style scoped>\n",
       "    .dataframe tbody tr th:only-of-type {\n",
       "        vertical-align: middle;\n",
       "    }\n",
       "\n",
       "    .dataframe tbody tr th {\n",
       "        vertical-align: top;\n",
       "    }\n",
       "\n",
       "    .dataframe thead th {\n",
       "        text-align: right;\n",
       "    }\n",
       "</style>\n",
       "<table border=\"1\" class=\"dataframe\">\n",
       "  <thead>\n",
       "    <tr style=\"text-align: right;\">\n",
       "      <th></th>\n",
       "      <th>index</th>\n",
       "      <th>0</th>\n",
       "    </tr>\n",
       "  </thead>\n",
       "  <tbody>\n",
       "    <tr>\n",
       "      <th>0</th>\n",
       "      <td>gender</td>\n",
       "      <td>object</td>\n",
       "    </tr>\n",
       "    <tr>\n",
       "      <th>1</th>\n",
       "      <td>race/ethnicity</td>\n",
       "      <td>object</td>\n",
       "    </tr>\n",
       "    <tr>\n",
       "      <th>2</th>\n",
       "      <td>parental level of education</td>\n",
       "      <td>object</td>\n",
       "    </tr>\n",
       "    <tr>\n",
       "      <th>3</th>\n",
       "      <td>lunch</td>\n",
       "      <td>object</td>\n",
       "    </tr>\n",
       "    <tr>\n",
       "      <th>4</th>\n",
       "      <td>test preparation course</td>\n",
       "      <td>object</td>\n",
       "    </tr>\n",
       "    <tr>\n",
       "      <th>5</th>\n",
       "      <td>math score</td>\n",
       "      <td>int64</td>\n",
       "    </tr>\n",
       "    <tr>\n",
       "      <th>6</th>\n",
       "      <td>reading score</td>\n",
       "      <td>int64</td>\n",
       "    </tr>\n",
       "    <tr>\n",
       "      <th>7</th>\n",
       "      <td>writing score</td>\n",
       "      <td>int64</td>\n",
       "    </tr>\n",
       "  </tbody>\n",
       "</table>\n",
       "</div>"
      ],
      "text/plain": [
       "                         index       0\n",
       "0                       gender  object\n",
       "1               race/ethnicity  object\n",
       "2  parental level of education  object\n",
       "3                        lunch  object\n",
       "4      test preparation course  object\n",
       "5                   math score   int64\n",
       "6                reading score   int64\n",
       "7                writing score   int64"
      ]
     },
     "execution_count": 48,
     "metadata": {},
     "output_type": "execute_result"
    }
   ],
   "source": [
    "pd.DataFrame(df.dtypes.reset_index())"
   ]
  },
  {
   "cell_type": "code",
   "execution_count": 49,
   "id": "026b8c56",
   "metadata": {},
   "outputs": [],
   "source": [
    "from sklearn.preprocessing import LabelEncoder\n",
    "\n",
    "label_encoder = LabelEncoder()\n",
    "df[\"parental level of education\"] = label_encoder.fit_transform(\n",
    "    df[\"parental level of education\"]\n",
    ")"
   ]
  },
  {
   "cell_type": "code",
   "execution_count": 50,
   "id": "aa7fd8a4",
   "metadata": {},
   "outputs": [
    {
     "data": {
      "application/vnd.microsoft.datawrangler.viewer.v0+json": {
       "columns": [
        {
         "name": "index",
         "rawType": "int64",
         "type": "integer"
        },
        {
         "name": "parental level of education",
         "rawType": "int64",
         "type": "integer"
        },
        {
         "name": "math score",
         "rawType": "int64",
         "type": "integer"
        },
        {
         "name": "reading score",
         "rawType": "int64",
         "type": "integer"
        },
        {
         "name": "writing score",
         "rawType": "int64",
         "type": "integer"
        },
        {
         "name": "gender_female",
         "rawType": "bool",
         "type": "boolean"
        },
        {
         "name": "gender_male",
         "rawType": "bool",
         "type": "boolean"
        },
        {
         "name": "lunch_free/reduced",
         "rawType": "bool",
         "type": "boolean"
        },
        {
         "name": "lunch_standard",
         "rawType": "bool",
         "type": "boolean"
        },
        {
         "name": "test preparation course_completed",
         "rawType": "bool",
         "type": "boolean"
        },
        {
         "name": "test preparation course_none",
         "rawType": "bool",
         "type": "boolean"
        },
        {
         "name": "race/ethnicity_group A",
         "rawType": "bool",
         "type": "boolean"
        },
        {
         "name": "race/ethnicity_group B",
         "rawType": "bool",
         "type": "boolean"
        },
        {
         "name": "race/ethnicity_group C",
         "rawType": "bool",
         "type": "boolean"
        },
        {
         "name": "race/ethnicity_group D",
         "rawType": "bool",
         "type": "boolean"
        },
        {
         "name": "race/ethnicity_group E",
         "rawType": "bool",
         "type": "boolean"
        }
       ],
       "conversionMethod": "pd.DataFrame",
       "ref": "bbb8717f-940e-4b99-a9ef-379062fdecca",
       "rows": [
        [
         "0",
         "1",
         "72",
         "72",
         "74",
         "True",
         "False",
         "False",
         "True",
         "False",
         "True",
         "False",
         "True",
         "False",
         "False",
         "False"
        ],
        [
         "1",
         "4",
         "69",
         "90",
         "88",
         "True",
         "False",
         "False",
         "True",
         "True",
         "False",
         "False",
         "False",
         "True",
         "False",
         "False"
        ],
        [
         "2",
         "3",
         "90",
         "95",
         "93",
         "True",
         "False",
         "False",
         "True",
         "False",
         "True",
         "False",
         "True",
         "False",
         "False",
         "False"
        ],
        [
         "3",
         "0",
         "47",
         "57",
         "44",
         "False",
         "True",
         "True",
         "False",
         "False",
         "True",
         "True",
         "False",
         "False",
         "False",
         "False"
        ],
        [
         "4",
         "4",
         "76",
         "78",
         "75",
         "False",
         "True",
         "False",
         "True",
         "False",
         "True",
         "False",
         "False",
         "True",
         "False",
         "False"
        ],
        [
         "5",
         "0",
         "71",
         "83",
         "78",
         "True",
         "False",
         "False",
         "True",
         "False",
         "True",
         "False",
         "True",
         "False",
         "False",
         "False"
        ],
        [
         "6",
         "4",
         "88",
         "95",
         "92",
         "True",
         "False",
         "False",
         "True",
         "True",
         "False",
         "False",
         "True",
         "False",
         "False",
         "False"
        ],
        [
         "7",
         "4",
         "40",
         "43",
         "39",
         "False",
         "True",
         "True",
         "False",
         "False",
         "True",
         "False",
         "True",
         "False",
         "False",
         "False"
        ],
        [
         "8",
         "2",
         "64",
         "64",
         "67",
         "False",
         "True",
         "True",
         "False",
         "True",
         "False",
         "False",
         "False",
         "False",
         "True",
         "False"
        ],
        [
         "9",
         "2",
         "38",
         "60",
         "50",
         "True",
         "False",
         "True",
         "False",
         "False",
         "True",
         "False",
         "True",
         "False",
         "False",
         "False"
        ],
        [
         "10",
         "0",
         "58",
         "54",
         "52",
         "False",
         "True",
         "False",
         "True",
         "False",
         "True",
         "False",
         "False",
         "True",
         "False",
         "False"
        ],
        [
         "11",
         "0",
         "40",
         "52",
         "43",
         "False",
         "True",
         "False",
         "True",
         "False",
         "True",
         "False",
         "False",
         "False",
         "True",
         "False"
        ],
        [
         "12",
         "2",
         "65",
         "81",
         "73",
         "True",
         "False",
         "False",
         "True",
         "False",
         "True",
         "False",
         "True",
         "False",
         "False",
         "False"
        ],
        [
         "13",
         "4",
         "78",
         "72",
         "70",
         "False",
         "True",
         "False",
         "True",
         "True",
         "False",
         "True",
         "False",
         "False",
         "False",
         "False"
        ],
        [
         "14",
         "3",
         "50",
         "53",
         "58",
         "True",
         "False",
         "False",
         "True",
         "False",
         "True",
         "True",
         "False",
         "False",
         "False",
         "False"
        ],
        [
         "15",
         "5",
         "69",
         "75",
         "78",
         "True",
         "False",
         "False",
         "True",
         "False",
         "True",
         "False",
         "False",
         "True",
         "False",
         "False"
        ],
        [
         "16",
         "2",
         "88",
         "89",
         "86",
         "False",
         "True",
         "False",
         "True",
         "False",
         "True",
         "False",
         "False",
         "True",
         "False",
         "False"
        ],
        [
         "17",
         "5",
         "65",
         "32",
         "28",
         "True",
         "False",
         "True",
         "False",
         "False",
         "True",
         "False",
         "True",
         "False",
         "False",
         "False"
        ],
        [
         "18",
         "3",
         "65",
         "22",
         "46",
         "False",
         "True",
         "True",
         "False",
         "True",
         "False",
         "False",
         "False",
         "True",
         "False",
         "False"
        ],
        [
         "19",
         "0",
         "65",
         "22",
         "61",
         "True",
         "False",
         "True",
         "False",
         "False",
         "True",
         "False",
         "False",
         "True",
         "False",
         "False"
        ],
        [
         "32",
         "3",
         "56",
         "34",
         "65",
         "True",
         "False",
         "True",
         "False",
         "False",
         "True",
         "False",
         "False",
         "False",
         "False",
         "True"
        ],
        [
         "33",
         "4",
         "40",
         "22",
         "38",
         "False",
         "True",
         "False",
         "True",
         "False",
         "True",
         "False",
         "False",
         "False",
         "True",
         "False"
        ],
        [
         "38",
         "0",
         "75",
         "69",
         "88",
         "True",
         "False",
         "True",
         "False",
         "True",
         "False",
         "False",
         "False",
         "False",
         "True",
         "False"
        ],
        [
         "39",
         "0",
         "57",
         "56",
         "57",
         "False",
         "True",
         "True",
         "False",
         "False",
         "True",
         "False",
         "True",
         "False",
         "False",
         "False"
        ],
        [
         "40",
         "0",
         "55",
         "61",
         "54",
         "False",
         "True",
         "True",
         "False",
         "False",
         "True",
         "False",
         "False",
         "True",
         "False",
         "False"
        ],
        [
         "41",
         "0",
         "58",
         "73",
         "68",
         "True",
         "False",
         "False",
         "True",
         "False",
         "True",
         "False",
         "False",
         "True",
         "False",
         "False"
        ],
        [
         "42",
         "0",
         "53",
         "58",
         "65",
         "True",
         "False",
         "False",
         "True",
         "False",
         "True",
         "False",
         "True",
         "False",
         "False",
         "False"
        ],
        [
         "43",
         "4",
         "59",
         "65",
         "66",
         "False",
         "True",
         "True",
         "False",
         "True",
         "False",
         "False",
         "True",
         "False",
         "False",
         "False"
        ],
        [
         "44",
         "0",
         "50",
         "56",
         "54",
         "True",
         "False",
         "True",
         "False",
         "False",
         "True",
         "False",
         "False",
         "False",
         "False",
         "True"
        ],
        [
         "45",
         "0",
         "65",
         "54",
         "57",
         "False",
         "True",
         "False",
         "True",
         "False",
         "True",
         "False",
         "True",
         "False",
         "False",
         "False"
        ],
        [
         "46",
         "0",
         "55",
         "65",
         "62",
         "True",
         "False",
         "False",
         "True",
         "True",
         "False",
         "True",
         "False",
         "False",
         "False",
         "False"
        ],
        [
         "47",
         "2",
         "66",
         "71",
         "76",
         "True",
         "False",
         "False",
         "True",
         "False",
         "True",
         "False",
         "False",
         "True",
         "False",
         "False"
        ],
        [
         "48",
         "0",
         "57",
         "74",
         "76",
         "True",
         "False",
         "True",
         "False",
         "True",
         "False",
         "False",
         "False",
         "False",
         "True",
         "False"
        ],
        [
         "49",
         "2",
         "82",
         "84",
         "82",
         "False",
         "True",
         "False",
         "True",
         "True",
         "False",
         "False",
         "False",
         "True",
         "False",
         "False"
        ],
        [
         "50",
         "4",
         "53",
         "55",
         "48",
         "False",
         "True",
         "False",
         "True",
         "False",
         "True",
         "False",
         "False",
         "False",
         "False",
         "True"
        ],
        [
         "51",
         "0",
         "77",
         "69",
         "68",
         "False",
         "True",
         "True",
         "False",
         "True",
         "False",
         "False",
         "False",
         "False",
         "False",
         "True"
        ],
        [
         "52",
         "4",
         "53",
         "44",
         "42",
         "False",
         "True",
         "False",
         "True",
         "False",
         "True",
         "False",
         "False",
         "True",
         "False",
         "False"
        ],
        [
         "53",
         "2",
         "88",
         "78",
         "75",
         "False",
         "True",
         "False",
         "True",
         "False",
         "True",
         "False",
         "False",
         "False",
         "True",
         "False"
        ],
        [
         "54",
         "5",
         "71",
         "84",
         "87",
         "True",
         "False",
         "True",
         "False",
         "True",
         "False",
         "False",
         "False",
         "True",
         "False",
         "False"
        ],
        [
         "55",
         "2",
         "33",
         "41",
         "43",
         "True",
         "False",
         "True",
         "False",
         "False",
         "True",
         "False",
         "False",
         "True",
         "False",
         "False"
        ],
        [
         "56",
         "0",
         "82",
         "85",
         "86",
         "True",
         "False",
         "False",
         "True",
         "True",
         "False",
         "False",
         "False",
         "False",
         "False",
         "True"
        ],
        [
         "57",
         "0",
         "52",
         "55",
         "49",
         "False",
         "True",
         "False",
         "True",
         "False",
         "True",
         "False",
         "False",
         "False",
         "True",
         "False"
        ],
        [
         "58",
         "4",
         "58",
         "59",
         "58",
         "False",
         "True",
         "False",
         "True",
         "True",
         "False",
         "False",
         "False",
         "False",
         "True",
         "False"
        ],
        [
         "60",
         "1",
         "79",
         "74",
         "72",
         "False",
         "True",
         "True",
         "False",
         "True",
         "False",
         "False",
         "False",
         "False",
         "False",
         "True"
        ],
        [
         "61",
         "5",
         "39",
         "39",
         "34",
         "False",
         "True",
         "True",
         "False",
         "False",
         "True",
         "True",
         "False",
         "False",
         "False",
         "False"
        ],
        [
         "62",
         "0",
         "62",
         "61",
         "55",
         "False",
         "True",
         "True",
         "False",
         "False",
         "True",
         "True",
         "False",
         "False",
         "False",
         "False"
        ],
        [
         "63",
         "0",
         "69",
         "80",
         "71",
         "True",
         "False",
         "False",
         "True",
         "False",
         "True",
         "False",
         "False",
         "True",
         "False",
         "False"
        ],
        [
         "64",
         "5",
         "59",
         "58",
         "59",
         "True",
         "False",
         "False",
         "True",
         "False",
         "True",
         "False",
         "False",
         "False",
         "True",
         "False"
        ],
        [
         "65",
         "5",
         "67",
         "64",
         "61",
         "False",
         "True",
         "False",
         "True",
         "False",
         "True",
         "False",
         "True",
         "False",
         "False",
         "False"
        ],
        [
         "66",
         "5",
         "45",
         "37",
         "37",
         "False",
         "True",
         "True",
         "False",
         "False",
         "True",
         "False",
         "False",
         "False",
         "True",
         "False"
        ]
       ],
       "shape": {
        "columns": 15,
        "rows": 976
       }
      },
      "text/html": [
       "<div>\n",
       "<style scoped>\n",
       "    .dataframe tbody tr th:only-of-type {\n",
       "        vertical-align: middle;\n",
       "    }\n",
       "\n",
       "    .dataframe tbody tr th {\n",
       "        vertical-align: top;\n",
       "    }\n",
       "\n",
       "    .dataframe thead th {\n",
       "        text-align: right;\n",
       "    }\n",
       "</style>\n",
       "<table border=\"1\" class=\"dataframe\">\n",
       "  <thead>\n",
       "    <tr style=\"text-align: right;\">\n",
       "      <th></th>\n",
       "      <th>parental level of education</th>\n",
       "      <th>math score</th>\n",
       "      <th>reading score</th>\n",
       "      <th>writing score</th>\n",
       "      <th>gender_female</th>\n",
       "      <th>gender_male</th>\n",
       "      <th>lunch_free/reduced</th>\n",
       "      <th>lunch_standard</th>\n",
       "      <th>test preparation course_completed</th>\n",
       "      <th>test preparation course_none</th>\n",
       "      <th>race/ethnicity_group A</th>\n",
       "      <th>race/ethnicity_group B</th>\n",
       "      <th>race/ethnicity_group C</th>\n",
       "      <th>race/ethnicity_group D</th>\n",
       "      <th>race/ethnicity_group E</th>\n",
       "    </tr>\n",
       "  </thead>\n",
       "  <tbody>\n",
       "    <tr>\n",
       "      <th>0</th>\n",
       "      <td>1</td>\n",
       "      <td>72</td>\n",
       "      <td>72</td>\n",
       "      <td>74</td>\n",
       "      <td>True</td>\n",
       "      <td>False</td>\n",
       "      <td>False</td>\n",
       "      <td>True</td>\n",
       "      <td>False</td>\n",
       "      <td>True</td>\n",
       "      <td>False</td>\n",
       "      <td>True</td>\n",
       "      <td>False</td>\n",
       "      <td>False</td>\n",
       "      <td>False</td>\n",
       "    </tr>\n",
       "    <tr>\n",
       "      <th>1</th>\n",
       "      <td>4</td>\n",
       "      <td>69</td>\n",
       "      <td>90</td>\n",
       "      <td>88</td>\n",
       "      <td>True</td>\n",
       "      <td>False</td>\n",
       "      <td>False</td>\n",
       "      <td>True</td>\n",
       "      <td>True</td>\n",
       "      <td>False</td>\n",
       "      <td>False</td>\n",
       "      <td>False</td>\n",
       "      <td>True</td>\n",
       "      <td>False</td>\n",
       "      <td>False</td>\n",
       "    </tr>\n",
       "    <tr>\n",
       "      <th>2</th>\n",
       "      <td>3</td>\n",
       "      <td>90</td>\n",
       "      <td>95</td>\n",
       "      <td>93</td>\n",
       "      <td>True</td>\n",
       "      <td>False</td>\n",
       "      <td>False</td>\n",
       "      <td>True</td>\n",
       "      <td>False</td>\n",
       "      <td>True</td>\n",
       "      <td>False</td>\n",
       "      <td>True</td>\n",
       "      <td>False</td>\n",
       "      <td>False</td>\n",
       "      <td>False</td>\n",
       "    </tr>\n",
       "    <tr>\n",
       "      <th>3</th>\n",
       "      <td>0</td>\n",
       "      <td>47</td>\n",
       "      <td>57</td>\n",
       "      <td>44</td>\n",
       "      <td>False</td>\n",
       "      <td>True</td>\n",
       "      <td>True</td>\n",
       "      <td>False</td>\n",
       "      <td>False</td>\n",
       "      <td>True</td>\n",
       "      <td>True</td>\n",
       "      <td>False</td>\n",
       "      <td>False</td>\n",
       "      <td>False</td>\n",
       "      <td>False</td>\n",
       "    </tr>\n",
       "    <tr>\n",
       "      <th>4</th>\n",
       "      <td>4</td>\n",
       "      <td>76</td>\n",
       "      <td>78</td>\n",
       "      <td>75</td>\n",
       "      <td>False</td>\n",
       "      <td>True</td>\n",
       "      <td>False</td>\n",
       "      <td>True</td>\n",
       "      <td>False</td>\n",
       "      <td>True</td>\n",
       "      <td>False</td>\n",
       "      <td>False</td>\n",
       "      <td>True</td>\n",
       "      <td>False</td>\n",
       "      <td>False</td>\n",
       "    </tr>\n",
       "    <tr>\n",
       "      <th>...</th>\n",
       "      <td>...</td>\n",
       "      <td>...</td>\n",
       "      <td>...</td>\n",
       "      <td>...</td>\n",
       "      <td>...</td>\n",
       "      <td>...</td>\n",
       "      <td>...</td>\n",
       "      <td>...</td>\n",
       "      <td>...</td>\n",
       "      <td>...</td>\n",
       "      <td>...</td>\n",
       "      <td>...</td>\n",
       "      <td>...</td>\n",
       "      <td>...</td>\n",
       "      <td>...</td>\n",
       "    </tr>\n",
       "    <tr>\n",
       "      <th>995</th>\n",
       "      <td>3</td>\n",
       "      <td>88</td>\n",
       "      <td>99</td>\n",
       "      <td>95</td>\n",
       "      <td>True</td>\n",
       "      <td>False</td>\n",
       "      <td>False</td>\n",
       "      <td>True</td>\n",
       "      <td>True</td>\n",
       "      <td>False</td>\n",
       "      <td>False</td>\n",
       "      <td>False</td>\n",
       "      <td>False</td>\n",
       "      <td>False</td>\n",
       "      <td>True</td>\n",
       "    </tr>\n",
       "    <tr>\n",
       "      <th>996</th>\n",
       "      <td>2</td>\n",
       "      <td>62</td>\n",
       "      <td>55</td>\n",
       "      <td>55</td>\n",
       "      <td>False</td>\n",
       "      <td>True</td>\n",
       "      <td>True</td>\n",
       "      <td>False</td>\n",
       "      <td>False</td>\n",
       "      <td>True</td>\n",
       "      <td>False</td>\n",
       "      <td>False</td>\n",
       "      <td>True</td>\n",
       "      <td>False</td>\n",
       "      <td>False</td>\n",
       "    </tr>\n",
       "    <tr>\n",
       "      <th>997</th>\n",
       "      <td>2</td>\n",
       "      <td>59</td>\n",
       "      <td>71</td>\n",
       "      <td>65</td>\n",
       "      <td>True</td>\n",
       "      <td>False</td>\n",
       "      <td>True</td>\n",
       "      <td>False</td>\n",
       "      <td>True</td>\n",
       "      <td>False</td>\n",
       "      <td>False</td>\n",
       "      <td>False</td>\n",
       "      <td>True</td>\n",
       "      <td>False</td>\n",
       "      <td>False</td>\n",
       "    </tr>\n",
       "    <tr>\n",
       "      <th>998</th>\n",
       "      <td>4</td>\n",
       "      <td>68</td>\n",
       "      <td>78</td>\n",
       "      <td>77</td>\n",
       "      <td>True</td>\n",
       "      <td>False</td>\n",
       "      <td>False</td>\n",
       "      <td>True</td>\n",
       "      <td>True</td>\n",
       "      <td>False</td>\n",
       "      <td>False</td>\n",
       "      <td>False</td>\n",
       "      <td>False</td>\n",
       "      <td>True</td>\n",
       "      <td>False</td>\n",
       "    </tr>\n",
       "    <tr>\n",
       "      <th>999</th>\n",
       "      <td>4</td>\n",
       "      <td>77</td>\n",
       "      <td>86</td>\n",
       "      <td>86</td>\n",
       "      <td>True</td>\n",
       "      <td>False</td>\n",
       "      <td>True</td>\n",
       "      <td>False</td>\n",
       "      <td>False</td>\n",
       "      <td>True</td>\n",
       "      <td>False</td>\n",
       "      <td>False</td>\n",
       "      <td>False</td>\n",
       "      <td>True</td>\n",
       "      <td>False</td>\n",
       "    </tr>\n",
       "  </tbody>\n",
       "</table>\n",
       "<p>976 rows × 15 columns</p>\n",
       "</div>"
      ],
      "text/plain": [
       "     parental level of education  math score  reading score  writing score  \\\n",
       "0                              1          72             72             74   \n",
       "1                              4          69             90             88   \n",
       "2                              3          90             95             93   \n",
       "3                              0          47             57             44   \n",
       "4                              4          76             78             75   \n",
       "..                           ...         ...            ...            ...   \n",
       "995                            3          88             99             95   \n",
       "996                            2          62             55             55   \n",
       "997                            2          59             71             65   \n",
       "998                            4          68             78             77   \n",
       "999                            4          77             86             86   \n",
       "\n",
       "     gender_female  gender_male  lunch_free/reduced  lunch_standard  \\\n",
       "0             True        False               False            True   \n",
       "1             True        False               False            True   \n",
       "2             True        False               False            True   \n",
       "3            False         True                True           False   \n",
       "4            False         True               False            True   \n",
       "..             ...          ...                 ...             ...   \n",
       "995           True        False               False            True   \n",
       "996          False         True                True           False   \n",
       "997           True        False                True           False   \n",
       "998           True        False               False            True   \n",
       "999           True        False                True           False   \n",
       "\n",
       "     test preparation course_completed  test preparation course_none  \\\n",
       "0                                False                          True   \n",
       "1                                 True                         False   \n",
       "2                                False                          True   \n",
       "3                                False                          True   \n",
       "4                                False                          True   \n",
       "..                                 ...                           ...   \n",
       "995                               True                         False   \n",
       "996                              False                          True   \n",
       "997                               True                         False   \n",
       "998                               True                         False   \n",
       "999                              False                          True   \n",
       "\n",
       "     race/ethnicity_group A  race/ethnicity_group B  race/ethnicity_group C  \\\n",
       "0                     False                    True                   False   \n",
       "1                     False                   False                    True   \n",
       "2                     False                    True                   False   \n",
       "3                      True                   False                   False   \n",
       "4                     False                   False                    True   \n",
       "..                      ...                     ...                     ...   \n",
       "995                   False                   False                   False   \n",
       "996                   False                   False                    True   \n",
       "997                   False                   False                    True   \n",
       "998                   False                   False                   False   \n",
       "999                   False                   False                   False   \n",
       "\n",
       "     race/ethnicity_group D  race/ethnicity_group E  \n",
       "0                     False                   False  \n",
       "1                     False                   False  \n",
       "2                     False                   False  \n",
       "3                     False                   False  \n",
       "4                     False                   False  \n",
       "..                      ...                     ...  \n",
       "995                   False                    True  \n",
       "996                   False                   False  \n",
       "997                   False                   False  \n",
       "998                    True                   False  \n",
       "999                    True                   False  \n",
       "\n",
       "[976 rows x 15 columns]"
      ]
     },
     "execution_count": 50,
     "metadata": {},
     "output_type": "execute_result"
    }
   ],
   "source": [
    "categorical_cols = [\"gender\", \"lunch\", \"test preparation course\", \"race/ethnicity\"]\n",
    "\n",
    "df = pd.get_dummies(\n",
    "    df,\n",
    "    columns=categorical_cols,\n",
    ")\n",
    "df[df.select_dtypes(include=\"number\").columns] = df.select_dtypes(\n",
    "    include=\"number\"\n",
    ").astype(int)\n",
    "df"
   ]
  },
  {
   "cell_type": "code",
   "execution_count": 51,
   "id": "1ea883cd",
   "metadata": {},
   "outputs": [
    {
     "data": {
      "application/vnd.microsoft.datawrangler.viewer.v0+json": {
       "columns": [
        {
         "name": "index",
         "rawType": "int64",
         "type": "integer"
        },
        {
         "name": "parental level of education",
         "rawType": "float64",
         "type": "float"
        },
        {
         "name": "math score",
         "rawType": "float64",
         "type": "float"
        },
        {
         "name": "reading score",
         "rawType": "float64",
         "type": "float"
        },
        {
         "name": "writing score",
         "rawType": "float64",
         "type": "float"
        },
        {
         "name": "gender_female",
         "rawType": "float64",
         "type": "float"
        },
        {
         "name": "gender_male",
         "rawType": "float64",
         "type": "float"
        },
        {
         "name": "lunch_free/reduced",
         "rawType": "float64",
         "type": "float"
        },
        {
         "name": "lunch_standard",
         "rawType": "float64",
         "type": "float"
        },
        {
         "name": "test preparation course_completed",
         "rawType": "float64",
         "type": "float"
        },
        {
         "name": "test preparation course_none",
         "rawType": "float64",
         "type": "float"
        },
        {
         "name": "race/ethnicity_group A",
         "rawType": "float64",
         "type": "float"
        },
        {
         "name": "race/ethnicity_group B",
         "rawType": "float64",
         "type": "float"
        },
        {
         "name": "race/ethnicity_group C",
         "rawType": "float64",
         "type": "float"
        },
        {
         "name": "race/ethnicity_group D",
         "rawType": "float64",
         "type": "float"
        },
        {
         "name": "race/ethnicity_group E",
         "rawType": "float64",
         "type": "float"
        }
       ],
       "conversionMethod": "pd.DataFrame",
       "ref": "2a4e622c-c961-4074-a184-0528e301e5d4",
       "rows": [
        [
         "0",
         "-0.81",
         "0.4",
         "0.2",
         "0.39",
         "0.97",
         "-0.97",
         "-0.75",
         "0.75",
         "-0.75",
         "0.75",
         "-0.31",
         "2.07",
         "-0.69",
         "-0.59",
         "-0.41"
        ],
        [
         "1",
         "0.83",
         "0.19",
         "1.43",
         "1.31",
         "0.97",
         "-0.97",
         "-0.75",
         "0.75",
         "1.33",
         "-1.33",
         "-0.31",
         "-0.48",
         "1.46",
         "-0.59",
         "-0.41"
        ],
        [
         "2",
         "0.28",
         "1.62",
         "1.77",
         "1.64",
         "0.97",
         "-0.97",
         "-0.75",
         "0.75",
         "-0.75",
         "0.75",
         "-0.31",
         "2.07",
         "-0.69",
         "-0.59",
         "-0.41"
        ],
        [
         "3",
         "-1.36",
         "-1.3",
         "-0.82",
         "-1.6",
         "-1.03",
         "1.03",
         "1.34",
         "-1.34",
         "-0.75",
         "0.75",
         "3.22",
         "-0.48",
         "-0.69",
         "-0.59",
         "-0.41"
        ],
        [
         "4",
         "0.83",
         "0.67",
         "0.61",
         "0.45",
         "-1.03",
         "1.03",
         "-0.75",
         "0.75",
         "-0.75",
         "0.75",
         "-0.31",
         "-0.48",
         "1.46",
         "-0.59",
         "-0.41"
        ],
        [
         "5",
         "-1.36",
         "0.33",
         "0.95",
         "0.65",
         "0.97",
         "-0.97",
         "-0.75",
         "0.75",
         "-0.75",
         "0.75",
         "-0.31",
         "2.07",
         "-0.69",
         "-0.59",
         "-0.41"
        ],
        [
         "6",
         "0.83",
         "1.49",
         "1.77",
         "1.58",
         "0.97",
         "-0.97",
         "-0.75",
         "0.75",
         "1.33",
         "-1.33",
         "-0.31",
         "2.07",
         "-0.69",
         "-0.59",
         "-0.41"
        ],
        [
         "7",
         "0.83",
         "-1.78",
         "-1.77",
         "-1.93",
         "-1.03",
         "1.03",
         "1.34",
         "-1.34",
         "-0.75",
         "0.75",
         "-0.31",
         "2.07",
         "-0.69",
         "-0.59",
         "-0.41"
        ],
        [
         "8",
         "-0.26",
         "-0.15",
         "-0.34",
         "-0.08",
         "-1.03",
         "1.03",
         "1.34",
         "-1.34",
         "1.33",
         "-1.33",
         "-0.31",
         "-0.48",
         "-0.69",
         "1.69",
         "-0.41"
        ],
        [
         "9",
         "-0.26",
         "-1.92",
         "-0.61",
         "-1.2",
         "0.97",
         "-0.97",
         "1.34",
         "-1.34",
         "-0.75",
         "0.75",
         "-0.31",
         "2.07",
         "-0.69",
         "-0.59",
         "-0.41"
        ],
        [
         "10",
         "-1.36",
         "-0.56",
         "-1.02",
         "-1.07",
         "-1.03",
         "1.03",
         "-0.75",
         "0.75",
         "-0.75",
         "0.75",
         "-0.31",
         "-0.48",
         "1.46",
         "-0.59",
         "-0.41"
        ],
        [
         "11",
         "-1.36",
         "-1.78",
         "-1.16",
         "-1.66",
         "-1.03",
         "1.03",
         "-0.75",
         "0.75",
         "-0.75",
         "0.75",
         "-0.31",
         "-0.48",
         "-0.69",
         "1.69",
         "-0.41"
        ],
        [
         "12",
         "-0.26",
         "-0.08",
         "0.81",
         "0.32",
         "0.97",
         "-0.97",
         "-0.75",
         "0.75",
         "-0.75",
         "0.75",
         "-0.31",
         "2.07",
         "-0.69",
         "-0.59",
         "-0.41"
        ],
        [
         "13",
         "0.83",
         "0.81",
         "0.2",
         "0.12",
         "-1.03",
         "1.03",
         "-0.75",
         "0.75",
         "1.33",
         "-1.33",
         "3.22",
         "-0.48",
         "-0.69",
         "-0.59",
         "-0.41"
        ],
        [
         "14",
         "0.28",
         "-1.1",
         "-1.09",
         "-0.67",
         "0.97",
         "-0.97",
         "-0.75",
         "0.75",
         "-0.75",
         "0.75",
         "3.22",
         "-0.48",
         "-0.69",
         "-0.59",
         "-0.41"
        ],
        [
         "15",
         "1.37",
         "0.19",
         "0.41",
         "0.65",
         "0.97",
         "-0.97",
         "-0.75",
         "0.75",
         "-0.75",
         "0.75",
         "-0.31",
         "-0.48",
         "1.46",
         "-0.59",
         "-0.41"
        ],
        [
         "16",
         "-0.26",
         "1.49",
         "1.36",
         "1.18",
         "-1.03",
         "1.03",
         "-0.75",
         "0.75",
         "-0.75",
         "0.75",
         "-0.31",
         "-0.48",
         "1.46",
         "-0.59",
         "-0.41"
        ],
        [
         "17",
         "1.37",
         "-0.08",
         "-2.52",
         "-2.66",
         "0.97",
         "-0.97",
         "1.34",
         "-1.34",
         "-0.75",
         "0.75",
         "-0.31",
         "2.07",
         "-0.69",
         "-0.59",
         "-0.41"
        ],
        [
         "18",
         "0.28",
         "-0.08",
         "-3.2",
         "-1.47",
         "-1.03",
         "1.03",
         "1.34",
         "-1.34",
         "1.33",
         "-1.33",
         "-0.31",
         "-0.48",
         "1.46",
         "-0.59",
         "-0.41"
        ],
        [
         "19",
         "-1.36",
         "-0.08",
         "-3.2",
         "-0.47",
         "0.97",
         "-0.97",
         "1.34",
         "-1.34",
         "-0.75",
         "0.75",
         "-0.31",
         "-0.48",
         "1.46",
         "-0.59",
         "-0.41"
        ],
        [
         "20",
         "0.28",
         "-0.69",
         "-2.38",
         "-0.21",
         "0.97",
         "-0.97",
         "1.34",
         "-1.34",
         "-0.75",
         "0.75",
         "-0.31",
         "-0.48",
         "-0.69",
         "-0.59",
         "2.46"
        ],
        [
         "21",
         "0.83",
         "-1.78",
         "-3.2",
         "-1.99",
         "-1.03",
         "1.03",
         "-0.75",
         "0.75",
         "-0.75",
         "0.75",
         "-0.31",
         "-0.48",
         "-0.69",
         "1.69",
         "-0.41"
        ],
        [
         "22",
         "-1.36",
         "0.6",
         "-0.0",
         "1.31",
         "0.97",
         "-0.97",
         "1.34",
         "-1.34",
         "1.33",
         "-1.33",
         "-0.31",
         "-0.48",
         "-0.69",
         "1.69",
         "-0.41"
        ],
        [
         "23",
         "-1.36",
         "-0.62",
         "-0.88",
         "-0.74",
         "-1.03",
         "1.03",
         "1.34",
         "-1.34",
         "-0.75",
         "0.75",
         "-0.31",
         "2.07",
         "-0.69",
         "-0.59",
         "-0.41"
        ],
        [
         "24",
         "-1.36",
         "-0.76",
         "-0.54",
         "-0.94",
         "-1.03",
         "1.03",
         "1.34",
         "-1.34",
         "-0.75",
         "0.75",
         "-0.31",
         "-0.48",
         "1.46",
         "-0.59",
         "-0.41"
        ],
        [
         "25",
         "-1.36",
         "-0.56",
         "0.27",
         "-0.01",
         "0.97",
         "-0.97",
         "-0.75",
         "0.75",
         "-0.75",
         "0.75",
         "-0.31",
         "-0.48",
         "1.46",
         "-0.59",
         "-0.41"
        ],
        [
         "26",
         "-1.36",
         "-0.9",
         "-0.75",
         "-0.21",
         "0.97",
         "-0.97",
         "-0.75",
         "0.75",
         "-0.75",
         "0.75",
         "-0.31",
         "2.07",
         "-0.69",
         "-0.59",
         "-0.41"
        ],
        [
         "27",
         "0.83",
         "-0.49",
         "-0.27",
         "-0.14",
         "-1.03",
         "1.03",
         "1.34",
         "-1.34",
         "1.33",
         "-1.33",
         "-0.31",
         "2.07",
         "-0.69",
         "-0.59",
         "-0.41"
        ],
        [
         "28",
         "-1.36",
         "-1.1",
         "-0.88",
         "-0.94",
         "0.97",
         "-0.97",
         "1.34",
         "-1.34",
         "-0.75",
         "0.75",
         "-0.31",
         "-0.48",
         "-0.69",
         "-0.59",
         "2.46"
        ],
        [
         "29",
         "-1.36",
         "-0.08",
         "-1.02",
         "-0.74",
         "-1.03",
         "1.03",
         "-0.75",
         "0.75",
         "-0.75",
         "0.75",
         "-0.31",
         "2.07",
         "-0.69",
         "-0.59",
         "-0.41"
        ],
        [
         "30",
         "-1.36",
         "-0.76",
         "-0.27",
         "-0.41",
         "0.97",
         "-0.97",
         "-0.75",
         "0.75",
         "1.33",
         "-1.33",
         "3.22",
         "-0.48",
         "-0.69",
         "-0.59",
         "-0.41"
        ],
        [
         "31",
         "-0.26",
         "-0.01",
         "0.13",
         "0.52",
         "0.97",
         "-0.97",
         "-0.75",
         "0.75",
         "-0.75",
         "0.75",
         "-0.31",
         "-0.48",
         "1.46",
         "-0.59",
         "-0.41"
        ],
        [
         "32",
         "-1.36",
         "-0.62",
         "0.34",
         "0.52",
         "0.97",
         "-0.97",
         "1.34",
         "-1.34",
         "1.33",
         "-1.33",
         "-0.31",
         "-0.48",
         "-0.69",
         "1.69",
         "-0.41"
        ],
        [
         "33",
         "-0.26",
         "1.08",
         "1.02",
         "0.92",
         "-1.03",
         "1.03",
         "-0.75",
         "0.75",
         "1.33",
         "-1.33",
         "-0.31",
         "-0.48",
         "1.46",
         "-0.59",
         "-0.41"
        ],
        [
         "34",
         "0.83",
         "-0.9",
         "-0.95",
         "-1.33",
         "-1.03",
         "1.03",
         "-0.75",
         "0.75",
         "-0.75",
         "0.75",
         "-0.31",
         "-0.48",
         "-0.69",
         "-0.59",
         "2.46"
        ],
        [
         "35",
         "-1.36",
         "0.74",
         "-0.0",
         "-0.01",
         "-1.03",
         "1.03",
         "1.34",
         "-1.34",
         "1.33",
         "-1.33",
         "-0.31",
         "-0.48",
         "-0.69",
         "-0.59",
         "2.46"
        ],
        [
         "36",
         "0.83",
         "-0.9",
         "-1.7",
         "-1.73",
         "-1.03",
         "1.03",
         "-0.75",
         "0.75",
         "-0.75",
         "0.75",
         "-0.31",
         "-0.48",
         "1.46",
         "-0.59",
         "-0.41"
        ],
        [
         "37",
         "-0.26",
         "1.49",
         "0.61",
         "0.45",
         "-1.03",
         "1.03",
         "-0.75",
         "0.75",
         "-0.75",
         "0.75",
         "-0.31",
         "-0.48",
         "-0.69",
         "1.69",
         "-0.41"
        ],
        [
         "38",
         "1.37",
         "0.33",
         "1.02",
         "1.25",
         "0.97",
         "-0.97",
         "1.34",
         "-1.34",
         "1.33",
         "-1.33",
         "-0.31",
         "-0.48",
         "1.46",
         "-0.59",
         "-0.41"
        ],
        [
         "39",
         "-0.26",
         "-2.26",
         "-1.9",
         "-1.66",
         "0.97",
         "-0.97",
         "1.34",
         "-1.34",
         "-0.75",
         "0.75",
         "-0.31",
         "-0.48",
         "1.46",
         "-0.59",
         "-0.41"
        ],
        [
         "40",
         "-1.36",
         "1.08",
         "1.09",
         "1.18",
         "0.97",
         "-0.97",
         "-0.75",
         "0.75",
         "1.33",
         "-1.33",
         "-0.31",
         "-0.48",
         "-0.69",
         "-0.59",
         "2.46"
        ],
        [
         "41",
         "-1.36",
         "-0.96",
         "-0.95",
         "-1.27",
         "-1.03",
         "1.03",
         "-0.75",
         "0.75",
         "-0.75",
         "0.75",
         "-0.31",
         "-0.48",
         "-0.69",
         "1.69",
         "-0.41"
        ],
        [
         "42",
         "0.83",
         "-0.56",
         "-0.68",
         "-0.67",
         "-1.03",
         "1.03",
         "-0.75",
         "0.75",
         "1.33",
         "-1.33",
         "-0.31",
         "-0.48",
         "-0.69",
         "1.69",
         "-0.41"
        ],
        [
         "43",
         "-0.81",
         "0.87",
         "0.34",
         "0.25",
         "-1.03",
         "1.03",
         "1.34",
         "-1.34",
         "1.33",
         "-1.33",
         "-0.31",
         "-0.48",
         "-0.69",
         "-0.59",
         "2.46"
        ],
        [
         "44",
         "1.37",
         "-1.85",
         "-2.04",
         "-2.26",
         "-1.03",
         "1.03",
         "1.34",
         "-1.34",
         "-0.75",
         "0.75",
         "3.22",
         "-0.48",
         "-0.69",
         "-0.59",
         "-0.41"
        ],
        [
         "45",
         "-1.36",
         "-0.28",
         "-0.54",
         "-0.87",
         "-1.03",
         "1.03",
         "1.34",
         "-1.34",
         "-0.75",
         "0.75",
         "3.22",
         "-0.48",
         "-0.69",
         "-0.59",
         "-0.41"
        ],
        [
         "46",
         "-1.36",
         "0.19",
         "0.75",
         "0.19",
         "0.97",
         "-0.97",
         "-0.75",
         "0.75",
         "-0.75",
         "0.75",
         "-0.31",
         "-0.48",
         "1.46",
         "-0.59",
         "-0.41"
        ],
        [
         "47",
         "1.37",
         "-0.49",
         "-0.75",
         "-0.61",
         "0.97",
         "-0.97",
         "-0.75",
         "0.75",
         "-0.75",
         "0.75",
         "-0.31",
         "-0.48",
         "-0.69",
         "1.69",
         "-0.41"
        ],
        [
         "48",
         "1.37",
         "0.06",
         "-0.34",
         "-0.47",
         "-1.03",
         "1.03",
         "-0.75",
         "0.75",
         "-0.75",
         "0.75",
         "-0.31",
         "2.07",
         "-0.69",
         "-0.59",
         "-0.41"
        ],
        [
         "49",
         "1.37",
         "-1.44",
         "-2.18",
         "-2.06",
         "-1.03",
         "1.03",
         "1.34",
         "-1.34",
         "-0.75",
         "0.75",
         "-0.31",
         "-0.48",
         "-0.69",
         "1.69",
         "-0.41"
        ]
       ],
       "shape": {
        "columns": 15,
        "rows": 976
       }
      },
      "text/html": [
       "<div>\n",
       "<style scoped>\n",
       "    .dataframe tbody tr th:only-of-type {\n",
       "        vertical-align: middle;\n",
       "    }\n",
       "\n",
       "    .dataframe tbody tr th {\n",
       "        vertical-align: top;\n",
       "    }\n",
       "\n",
       "    .dataframe thead th {\n",
       "        text-align: right;\n",
       "    }\n",
       "</style>\n",
       "<table border=\"1\" class=\"dataframe\">\n",
       "  <thead>\n",
       "    <tr style=\"text-align: right;\">\n",
       "      <th></th>\n",
       "      <th>parental level of education</th>\n",
       "      <th>math score</th>\n",
       "      <th>reading score</th>\n",
       "      <th>writing score</th>\n",
       "      <th>gender_female</th>\n",
       "      <th>gender_male</th>\n",
       "      <th>lunch_free/reduced</th>\n",
       "      <th>lunch_standard</th>\n",
       "      <th>test preparation course_completed</th>\n",
       "      <th>test preparation course_none</th>\n",
       "      <th>race/ethnicity_group A</th>\n",
       "      <th>race/ethnicity_group B</th>\n",
       "      <th>race/ethnicity_group C</th>\n",
       "      <th>race/ethnicity_group D</th>\n",
       "      <th>race/ethnicity_group E</th>\n",
       "    </tr>\n",
       "  </thead>\n",
       "  <tbody>\n",
       "    <tr>\n",
       "      <th>0</th>\n",
       "      <td>-0.81</td>\n",
       "      <td>0.40</td>\n",
       "      <td>0.20</td>\n",
       "      <td>0.39</td>\n",
       "      <td>0.97</td>\n",
       "      <td>-0.97</td>\n",
       "      <td>-0.75</td>\n",
       "      <td>0.75</td>\n",
       "      <td>-0.75</td>\n",
       "      <td>0.75</td>\n",
       "      <td>-0.31</td>\n",
       "      <td>2.07</td>\n",
       "      <td>-0.69</td>\n",
       "      <td>-0.59</td>\n",
       "      <td>-0.41</td>\n",
       "    </tr>\n",
       "    <tr>\n",
       "      <th>1</th>\n",
       "      <td>0.83</td>\n",
       "      <td>0.19</td>\n",
       "      <td>1.43</td>\n",
       "      <td>1.31</td>\n",
       "      <td>0.97</td>\n",
       "      <td>-0.97</td>\n",
       "      <td>-0.75</td>\n",
       "      <td>0.75</td>\n",
       "      <td>1.33</td>\n",
       "      <td>-1.33</td>\n",
       "      <td>-0.31</td>\n",
       "      <td>-0.48</td>\n",
       "      <td>1.46</td>\n",
       "      <td>-0.59</td>\n",
       "      <td>-0.41</td>\n",
       "    </tr>\n",
       "    <tr>\n",
       "      <th>2</th>\n",
       "      <td>0.28</td>\n",
       "      <td>1.62</td>\n",
       "      <td>1.77</td>\n",
       "      <td>1.64</td>\n",
       "      <td>0.97</td>\n",
       "      <td>-0.97</td>\n",
       "      <td>-0.75</td>\n",
       "      <td>0.75</td>\n",
       "      <td>-0.75</td>\n",
       "      <td>0.75</td>\n",
       "      <td>-0.31</td>\n",
       "      <td>2.07</td>\n",
       "      <td>-0.69</td>\n",
       "      <td>-0.59</td>\n",
       "      <td>-0.41</td>\n",
       "    </tr>\n",
       "    <tr>\n",
       "      <th>3</th>\n",
       "      <td>-1.36</td>\n",
       "      <td>-1.30</td>\n",
       "      <td>-0.82</td>\n",
       "      <td>-1.60</td>\n",
       "      <td>-1.03</td>\n",
       "      <td>1.03</td>\n",
       "      <td>1.34</td>\n",
       "      <td>-1.34</td>\n",
       "      <td>-0.75</td>\n",
       "      <td>0.75</td>\n",
       "      <td>3.22</td>\n",
       "      <td>-0.48</td>\n",
       "      <td>-0.69</td>\n",
       "      <td>-0.59</td>\n",
       "      <td>-0.41</td>\n",
       "    </tr>\n",
       "    <tr>\n",
       "      <th>4</th>\n",
       "      <td>0.83</td>\n",
       "      <td>0.67</td>\n",
       "      <td>0.61</td>\n",
       "      <td>0.45</td>\n",
       "      <td>-1.03</td>\n",
       "      <td>1.03</td>\n",
       "      <td>-0.75</td>\n",
       "      <td>0.75</td>\n",
       "      <td>-0.75</td>\n",
       "      <td>0.75</td>\n",
       "      <td>-0.31</td>\n",
       "      <td>-0.48</td>\n",
       "      <td>1.46</td>\n",
       "      <td>-0.59</td>\n",
       "      <td>-0.41</td>\n",
       "    </tr>\n",
       "    <tr>\n",
       "      <th>...</th>\n",
       "      <td>...</td>\n",
       "      <td>...</td>\n",
       "      <td>...</td>\n",
       "      <td>...</td>\n",
       "      <td>...</td>\n",
       "      <td>...</td>\n",
       "      <td>...</td>\n",
       "      <td>...</td>\n",
       "      <td>...</td>\n",
       "      <td>...</td>\n",
       "      <td>...</td>\n",
       "      <td>...</td>\n",
       "      <td>...</td>\n",
       "      <td>...</td>\n",
       "      <td>...</td>\n",
       "    </tr>\n",
       "    <tr>\n",
       "      <th>971</th>\n",
       "      <td>0.28</td>\n",
       "      <td>1.49</td>\n",
       "      <td>2.04</td>\n",
       "      <td>1.78</td>\n",
       "      <td>0.97</td>\n",
       "      <td>-0.97</td>\n",
       "      <td>-0.75</td>\n",
       "      <td>0.75</td>\n",
       "      <td>1.33</td>\n",
       "      <td>-1.33</td>\n",
       "      <td>-0.31</td>\n",
       "      <td>-0.48</td>\n",
       "      <td>-0.69</td>\n",
       "      <td>-0.59</td>\n",
       "      <td>2.46</td>\n",
       "    </tr>\n",
       "    <tr>\n",
       "      <th>972</th>\n",
       "      <td>-0.26</td>\n",
       "      <td>-0.28</td>\n",
       "      <td>-0.95</td>\n",
       "      <td>-0.87</td>\n",
       "      <td>-1.03</td>\n",
       "      <td>1.03</td>\n",
       "      <td>1.34</td>\n",
       "      <td>-1.34</td>\n",
       "      <td>-0.75</td>\n",
       "      <td>0.75</td>\n",
       "      <td>-0.31</td>\n",
       "      <td>-0.48</td>\n",
       "      <td>1.46</td>\n",
       "      <td>-0.59</td>\n",
       "      <td>-0.41</td>\n",
       "    </tr>\n",
       "    <tr>\n",
       "      <th>973</th>\n",
       "      <td>-0.26</td>\n",
       "      <td>-0.49</td>\n",
       "      <td>0.13</td>\n",
       "      <td>-0.21</td>\n",
       "      <td>0.97</td>\n",
       "      <td>-0.97</td>\n",
       "      <td>1.34</td>\n",
       "      <td>-1.34</td>\n",
       "      <td>1.33</td>\n",
       "      <td>-1.33</td>\n",
       "      <td>-0.31</td>\n",
       "      <td>-0.48</td>\n",
       "      <td>1.46</td>\n",
       "      <td>-0.59</td>\n",
       "      <td>-0.41</td>\n",
       "    </tr>\n",
       "    <tr>\n",
       "      <th>974</th>\n",
       "      <td>0.83</td>\n",
       "      <td>0.12</td>\n",
       "      <td>0.61</td>\n",
       "      <td>0.59</td>\n",
       "      <td>0.97</td>\n",
       "      <td>-0.97</td>\n",
       "      <td>-0.75</td>\n",
       "      <td>0.75</td>\n",
       "      <td>1.33</td>\n",
       "      <td>-1.33</td>\n",
       "      <td>-0.31</td>\n",
       "      <td>-0.48</td>\n",
       "      <td>-0.69</td>\n",
       "      <td>1.69</td>\n",
       "      <td>-0.41</td>\n",
       "    </tr>\n",
       "    <tr>\n",
       "      <th>975</th>\n",
       "      <td>0.83</td>\n",
       "      <td>0.74</td>\n",
       "      <td>1.15</td>\n",
       "      <td>1.18</td>\n",
       "      <td>0.97</td>\n",
       "      <td>-0.97</td>\n",
       "      <td>1.34</td>\n",
       "      <td>-1.34</td>\n",
       "      <td>-0.75</td>\n",
       "      <td>0.75</td>\n",
       "      <td>-0.31</td>\n",
       "      <td>-0.48</td>\n",
       "      <td>-0.69</td>\n",
       "      <td>1.69</td>\n",
       "      <td>-0.41</td>\n",
       "    </tr>\n",
       "  </tbody>\n",
       "</table>\n",
       "<p>976 rows × 15 columns</p>\n",
       "</div>"
      ],
      "text/plain": [
       "     parental level of education  math score  reading score  writing score  \\\n",
       "0                          -0.81        0.40           0.20           0.39   \n",
       "1                           0.83        0.19           1.43           1.31   \n",
       "2                           0.28        1.62           1.77           1.64   \n",
       "3                          -1.36       -1.30          -0.82          -1.60   \n",
       "4                           0.83        0.67           0.61           0.45   \n",
       "..                           ...         ...            ...            ...   \n",
       "971                         0.28        1.49           2.04           1.78   \n",
       "972                        -0.26       -0.28          -0.95          -0.87   \n",
       "973                        -0.26       -0.49           0.13          -0.21   \n",
       "974                         0.83        0.12           0.61           0.59   \n",
       "975                         0.83        0.74           1.15           1.18   \n",
       "\n",
       "     gender_female  gender_male  lunch_free/reduced  lunch_standard  \\\n",
       "0             0.97        -0.97               -0.75            0.75   \n",
       "1             0.97        -0.97               -0.75            0.75   \n",
       "2             0.97        -0.97               -0.75            0.75   \n",
       "3            -1.03         1.03                1.34           -1.34   \n",
       "4            -1.03         1.03               -0.75            0.75   \n",
       "..             ...          ...                 ...             ...   \n",
       "971           0.97        -0.97               -0.75            0.75   \n",
       "972          -1.03         1.03                1.34           -1.34   \n",
       "973           0.97        -0.97                1.34           -1.34   \n",
       "974           0.97        -0.97               -0.75            0.75   \n",
       "975           0.97        -0.97                1.34           -1.34   \n",
       "\n",
       "     test preparation course_completed  test preparation course_none  \\\n",
       "0                                -0.75                          0.75   \n",
       "1                                 1.33                         -1.33   \n",
       "2                                -0.75                          0.75   \n",
       "3                                -0.75                          0.75   \n",
       "4                                -0.75                          0.75   \n",
       "..                                 ...                           ...   \n",
       "971                               1.33                         -1.33   \n",
       "972                              -0.75                          0.75   \n",
       "973                               1.33                         -1.33   \n",
       "974                               1.33                         -1.33   \n",
       "975                              -0.75                          0.75   \n",
       "\n",
       "     race/ethnicity_group A  race/ethnicity_group B  race/ethnicity_group C  \\\n",
       "0                     -0.31                    2.07                   -0.69   \n",
       "1                     -0.31                   -0.48                    1.46   \n",
       "2                     -0.31                    2.07                   -0.69   \n",
       "3                      3.22                   -0.48                   -0.69   \n",
       "4                     -0.31                   -0.48                    1.46   \n",
       "..                      ...                     ...                     ...   \n",
       "971                   -0.31                   -0.48                   -0.69   \n",
       "972                   -0.31                   -0.48                    1.46   \n",
       "973                   -0.31                   -0.48                    1.46   \n",
       "974                   -0.31                   -0.48                   -0.69   \n",
       "975                   -0.31                   -0.48                   -0.69   \n",
       "\n",
       "     race/ethnicity_group D  race/ethnicity_group E  \n",
       "0                     -0.59                   -0.41  \n",
       "1                     -0.59                   -0.41  \n",
       "2                     -0.59                   -0.41  \n",
       "3                     -0.59                   -0.41  \n",
       "4                     -0.59                   -0.41  \n",
       "..                      ...                     ...  \n",
       "971                   -0.59                    2.46  \n",
       "972                   -0.59                   -0.41  \n",
       "973                   -0.59                   -0.41  \n",
       "974                    1.69                   -0.41  \n",
       "975                    1.69                   -0.41  \n",
       "\n",
       "[976 rows x 15 columns]"
      ]
     },
     "execution_count": 51,
     "metadata": {},
     "output_type": "execute_result"
    }
   ],
   "source": [
    "from sklearn.preprocessing import StandardScaler\n",
    "\n",
    "standard_scalar = StandardScaler()\n",
    "standardized_data = standard_scalar.fit_transform(df.values)\n",
    "standardized_df = pd.DataFrame(np.round(standardized_data, 2), columns=df.columns)\n",
    "standardized_df"
   ]
  },
  {
   "cell_type": "code",
   "execution_count": 52,
   "id": "b635d44b",
   "metadata": {},
   "outputs": [
    {
     "data": {
      "application/vnd.microsoft.datawrangler.viewer.v0+json": {
       "columns": [
        {
         "name": "index",
         "rawType": "int64",
         "type": "integer"
        },
        {
         "name": "parental level of education",
         "rawType": "float64",
         "type": "float"
        },
        {
         "name": "math score",
         "rawType": "float64",
         "type": "float"
        },
        {
         "name": "reading score",
         "rawType": "float64",
         "type": "float"
        },
        {
         "name": "writing score",
         "rawType": "float64",
         "type": "float"
        },
        {
         "name": "gender_female",
         "rawType": "float64",
         "type": "float"
        },
        {
         "name": "gender_male",
         "rawType": "float64",
         "type": "float"
        },
        {
         "name": "lunch_free/reduced",
         "rawType": "float64",
         "type": "float"
        },
        {
         "name": "lunch_standard",
         "rawType": "float64",
         "type": "float"
        },
        {
         "name": "test preparation course_completed",
         "rawType": "float64",
         "type": "float"
        },
        {
         "name": "test preparation course_none",
         "rawType": "float64",
         "type": "float"
        },
        {
         "name": "race/ethnicity_group A",
         "rawType": "float64",
         "type": "float"
        },
        {
         "name": "race/ethnicity_group B",
         "rawType": "float64",
         "type": "float"
        },
        {
         "name": "race/ethnicity_group C",
         "rawType": "float64",
         "type": "float"
        },
        {
         "name": "race/ethnicity_group D",
         "rawType": "float64",
         "type": "float"
        },
        {
         "name": "race/ethnicity_group E",
         "rawType": "float64",
         "type": "float"
        }
       ],
       "conversionMethod": "pd.DataFrame",
       "ref": "027792ed-527b-4188-b9d6-a2ee2fdc3f12",
       "rows": [
        [
         "0",
         "0.2",
         "0.65",
         "0.64",
         "0.69",
         "1.0",
         "0.0",
         "0.0",
         "1.0",
         "0.0",
         "1.0",
         "0.0",
         "1.0",
         "0.0",
         "0.0",
         "0.0"
        ],
        [
         "1",
         "0.8",
         "0.62",
         "0.87",
         "0.86",
         "1.0",
         "0.0",
         "0.0",
         "1.0",
         "1.0",
         "0.0",
         "0.0",
         "0.0",
         "1.0",
         "0.0",
         "0.0"
        ],
        [
         "2",
         "0.6",
         "0.88",
         "0.94",
         "0.92",
         "1.0",
         "0.0",
         "0.0",
         "1.0",
         "0.0",
         "1.0",
         "0.0",
         "1.0",
         "0.0",
         "0.0",
         "0.0"
        ],
        [
         "3",
         "0.0",
         "0.35",
         "0.45",
         "0.34",
         "0.0",
         "1.0",
         "1.0",
         "0.0",
         "0.0",
         "1.0",
         "1.0",
         "0.0",
         "0.0",
         "0.0",
         "0.0"
        ],
        [
         "4",
         "0.8",
         "0.7",
         "0.72",
         "0.71",
         "0.0",
         "1.0",
         "0.0",
         "1.0",
         "0.0",
         "1.0",
         "0.0",
         "0.0",
         "1.0",
         "0.0",
         "0.0"
        ],
        [
         "5",
         "0.0",
         "0.64",
         "0.78",
         "0.74",
         "1.0",
         "0.0",
         "0.0",
         "1.0",
         "0.0",
         "1.0",
         "0.0",
         "1.0",
         "0.0",
         "0.0",
         "0.0"
        ],
        [
         "6",
         "0.8",
         "0.85",
         "0.94",
         "0.91",
         "1.0",
         "0.0",
         "0.0",
         "1.0",
         "1.0",
         "0.0",
         "0.0",
         "1.0",
         "0.0",
         "0.0",
         "0.0"
        ],
        [
         "7",
         "0.8",
         "0.26",
         "0.27",
         "0.28",
         "0.0",
         "1.0",
         "1.0",
         "0.0",
         "0.0",
         "1.0",
         "0.0",
         "1.0",
         "0.0",
         "0.0",
         "0.0"
        ],
        [
         "8",
         "0.4",
         "0.56",
         "0.54",
         "0.61",
         "0.0",
         "1.0",
         "1.0",
         "0.0",
         "1.0",
         "0.0",
         "0.0",
         "0.0",
         "0.0",
         "1.0",
         "0.0"
        ],
        [
         "9",
         "0.4",
         "0.23",
         "0.49",
         "0.41",
         "1.0",
         "0.0",
         "1.0",
         "0.0",
         "0.0",
         "1.0",
         "0.0",
         "1.0",
         "0.0",
         "0.0",
         "0.0"
        ],
        [
         "10",
         "0.0",
         "0.48",
         "0.41",
         "0.44",
         "0.0",
         "1.0",
         "0.0",
         "1.0",
         "0.0",
         "1.0",
         "0.0",
         "0.0",
         "1.0",
         "0.0",
         "0.0"
        ],
        [
         "11",
         "0.0",
         "0.26",
         "0.38",
         "0.33",
         "0.0",
         "1.0",
         "0.0",
         "1.0",
         "0.0",
         "1.0",
         "0.0",
         "0.0",
         "0.0",
         "1.0",
         "0.0"
        ],
        [
         "12",
         "0.4",
         "0.57",
         "0.76",
         "0.68",
         "1.0",
         "0.0",
         "0.0",
         "1.0",
         "0.0",
         "1.0",
         "0.0",
         "1.0",
         "0.0",
         "0.0",
         "0.0"
        ],
        [
         "13",
         "0.8",
         "0.73",
         "0.64",
         "0.65",
         "0.0",
         "1.0",
         "0.0",
         "1.0",
         "1.0",
         "0.0",
         "1.0",
         "0.0",
         "0.0",
         "0.0",
         "0.0"
        ],
        [
         "14",
         "0.6",
         "0.38",
         "0.4",
         "0.51",
         "1.0",
         "0.0",
         "0.0",
         "1.0",
         "0.0",
         "1.0",
         "1.0",
         "0.0",
         "0.0",
         "0.0",
         "0.0"
        ],
        [
         "15",
         "1.0",
         "0.62",
         "0.68",
         "0.74",
         "1.0",
         "0.0",
         "0.0",
         "1.0",
         "0.0",
         "1.0",
         "0.0",
         "0.0",
         "1.0",
         "0.0",
         "0.0"
        ],
        [
         "16",
         "0.4",
         "0.85",
         "0.86",
         "0.84",
         "0.0",
         "1.0",
         "0.0",
         "1.0",
         "0.0",
         "1.0",
         "0.0",
         "0.0",
         "1.0",
         "0.0",
         "0.0"
        ],
        [
         "17",
         "1.0",
         "0.57",
         "0.13",
         "0.15",
         "1.0",
         "0.0",
         "1.0",
         "0.0",
         "0.0",
         "1.0",
         "0.0",
         "1.0",
         "0.0",
         "0.0",
         "0.0"
        ],
        [
         "18",
         "0.6",
         "0.57",
         "0.0",
         "0.36",
         "0.0",
         "1.0",
         "1.0",
         "0.0",
         "1.0",
         "0.0",
         "0.0",
         "0.0",
         "1.0",
         "0.0",
         "0.0"
        ],
        [
         "19",
         "0.0",
         "0.57",
         "0.0",
         "0.54",
         "1.0",
         "0.0",
         "1.0",
         "0.0",
         "0.0",
         "1.0",
         "0.0",
         "0.0",
         "1.0",
         "0.0",
         "0.0"
        ],
        [
         "20",
         "0.6",
         "0.46",
         "0.15",
         "0.59",
         "1.0",
         "0.0",
         "1.0",
         "0.0",
         "0.0",
         "1.0",
         "0.0",
         "0.0",
         "0.0",
         "0.0",
         "1.0"
        ],
        [
         "21",
         "0.8",
         "0.26",
         "0.0",
         "0.27",
         "0.0",
         "1.0",
         "0.0",
         "1.0",
         "0.0",
         "1.0",
         "0.0",
         "0.0",
         "0.0",
         "1.0",
         "0.0"
        ],
        [
         "22",
         "0.0",
         "0.69",
         "0.6",
         "0.86",
         "1.0",
         "0.0",
         "1.0",
         "0.0",
         "1.0",
         "0.0",
         "0.0",
         "0.0",
         "0.0",
         "1.0",
         "0.0"
        ],
        [
         "23",
         "0.0",
         "0.47",
         "0.44",
         "0.49",
         "0.0",
         "1.0",
         "1.0",
         "0.0",
         "0.0",
         "1.0",
         "0.0",
         "1.0",
         "0.0",
         "0.0",
         "0.0"
        ],
        [
         "24",
         "0.0",
         "0.44",
         "0.5",
         "0.46",
         "0.0",
         "1.0",
         "1.0",
         "0.0",
         "0.0",
         "1.0",
         "0.0",
         "0.0",
         "1.0",
         "0.0",
         "0.0"
        ],
        [
         "25",
         "0.0",
         "0.48",
         "0.65",
         "0.62",
         "1.0",
         "0.0",
         "0.0",
         "1.0",
         "0.0",
         "1.0",
         "0.0",
         "0.0",
         "1.0",
         "0.0",
         "0.0"
        ],
        [
         "26",
         "0.0",
         "0.42",
         "0.46",
         "0.59",
         "1.0",
         "0.0",
         "0.0",
         "1.0",
         "0.0",
         "1.0",
         "0.0",
         "1.0",
         "0.0",
         "0.0",
         "0.0"
        ],
        [
         "27",
         "0.8",
         "0.49",
         "0.55",
         "0.6",
         "0.0",
         "1.0",
         "1.0",
         "0.0",
         "1.0",
         "0.0",
         "0.0",
         "1.0",
         "0.0",
         "0.0",
         "0.0"
        ],
        [
         "28",
         "0.0",
         "0.38",
         "0.44",
         "0.46",
         "1.0",
         "0.0",
         "1.0",
         "0.0",
         "0.0",
         "1.0",
         "0.0",
         "0.0",
         "0.0",
         "0.0",
         "1.0"
        ],
        [
         "29",
         "0.0",
         "0.57",
         "0.41",
         "0.49",
         "0.0",
         "1.0",
         "0.0",
         "1.0",
         "0.0",
         "1.0",
         "0.0",
         "1.0",
         "0.0",
         "0.0",
         "0.0"
        ],
        [
         "30",
         "0.0",
         "0.44",
         "0.55",
         "0.55",
         "1.0",
         "0.0",
         "0.0",
         "1.0",
         "1.0",
         "0.0",
         "1.0",
         "0.0",
         "0.0",
         "0.0",
         "0.0"
        ],
        [
         "31",
         "0.4",
         "0.58",
         "0.63",
         "0.72",
         "1.0",
         "0.0",
         "0.0",
         "1.0",
         "0.0",
         "1.0",
         "0.0",
         "0.0",
         "1.0",
         "0.0",
         "0.0"
        ],
        [
         "32",
         "0.0",
         "0.47",
         "0.67",
         "0.72",
         "1.0",
         "0.0",
         "1.0",
         "0.0",
         "1.0",
         "0.0",
         "0.0",
         "0.0",
         "0.0",
         "1.0",
         "0.0"
        ],
        [
         "33",
         "0.4",
         "0.78",
         "0.79",
         "0.79",
         "0.0",
         "1.0",
         "0.0",
         "1.0",
         "1.0",
         "0.0",
         "0.0",
         "0.0",
         "1.0",
         "0.0",
         "0.0"
        ],
        [
         "34",
         "0.8",
         "0.42",
         "0.42",
         "0.39",
         "0.0",
         "1.0",
         "0.0",
         "1.0",
         "0.0",
         "1.0",
         "0.0",
         "0.0",
         "0.0",
         "0.0",
         "1.0"
        ],
        [
         "35",
         "0.0",
         "0.72",
         "0.6",
         "0.62",
         "0.0",
         "1.0",
         "1.0",
         "0.0",
         "1.0",
         "0.0",
         "0.0",
         "0.0",
         "0.0",
         "0.0",
         "1.0"
        ],
        [
         "36",
         "0.8",
         "0.42",
         "0.28",
         "0.32",
         "0.0",
         "1.0",
         "0.0",
         "1.0",
         "0.0",
         "1.0",
         "0.0",
         "0.0",
         "1.0",
         "0.0",
         "0.0"
        ],
        [
         "37",
         "0.4",
         "0.85",
         "0.72",
         "0.71",
         "0.0",
         "1.0",
         "0.0",
         "1.0",
         "0.0",
         "1.0",
         "0.0",
         "0.0",
         "0.0",
         "1.0",
         "0.0"
        ],
        [
         "38",
         "1.0",
         "0.64",
         "0.79",
         "0.85",
         "1.0",
         "0.0",
         "1.0",
         "0.0",
         "1.0",
         "0.0",
         "0.0",
         "0.0",
         "1.0",
         "0.0",
         "0.0"
        ],
        [
         "39",
         "0.4",
         "0.17",
         "0.24",
         "0.33",
         "1.0",
         "0.0",
         "1.0",
         "0.0",
         "0.0",
         "1.0",
         "0.0",
         "0.0",
         "1.0",
         "0.0",
         "0.0"
        ],
        [
         "40",
         "0.0",
         "0.78",
         "0.81",
         "0.84",
         "1.0",
         "0.0",
         "0.0",
         "1.0",
         "1.0",
         "0.0",
         "0.0",
         "0.0",
         "0.0",
         "0.0",
         "1.0"
        ],
        [
         "41",
         "0.0",
         "0.41",
         "0.42",
         "0.4",
         "0.0",
         "1.0",
         "0.0",
         "1.0",
         "0.0",
         "1.0",
         "0.0",
         "0.0",
         "0.0",
         "1.0",
         "0.0"
        ],
        [
         "42",
         "0.8",
         "0.48",
         "0.47",
         "0.51",
         "0.0",
         "1.0",
         "0.0",
         "1.0",
         "1.0",
         "0.0",
         "0.0",
         "0.0",
         "0.0",
         "1.0",
         "0.0"
        ],
        [
         "43",
         "0.2",
         "0.74",
         "0.67",
         "0.67",
         "0.0",
         "1.0",
         "1.0",
         "0.0",
         "1.0",
         "0.0",
         "0.0",
         "0.0",
         "0.0",
         "0.0",
         "1.0"
        ],
        [
         "44",
         "1.0",
         "0.25",
         "0.22",
         "0.22",
         "0.0",
         "1.0",
         "1.0",
         "0.0",
         "0.0",
         "1.0",
         "1.0",
         "0.0",
         "0.0",
         "0.0",
         "0.0"
        ],
        [
         "45",
         "0.0",
         "0.53",
         "0.5",
         "0.47",
         "0.0",
         "1.0",
         "1.0",
         "0.0",
         "0.0",
         "1.0",
         "1.0",
         "0.0",
         "0.0",
         "0.0",
         "0.0"
        ],
        [
         "46",
         "0.0",
         "0.62",
         "0.74",
         "0.66",
         "1.0",
         "0.0",
         "0.0",
         "1.0",
         "0.0",
         "1.0",
         "0.0",
         "0.0",
         "1.0",
         "0.0",
         "0.0"
        ],
        [
         "47",
         "1.0",
         "0.49",
         "0.46",
         "0.52",
         "1.0",
         "0.0",
         "0.0",
         "1.0",
         "0.0",
         "1.0",
         "0.0",
         "0.0",
         "0.0",
         "1.0",
         "0.0"
        ],
        [
         "48",
         "1.0",
         "0.59",
         "0.54",
         "0.54",
         "0.0",
         "1.0",
         "0.0",
         "1.0",
         "0.0",
         "1.0",
         "0.0",
         "1.0",
         "0.0",
         "0.0",
         "0.0"
        ],
        [
         "49",
         "1.0",
         "0.32",
         "0.19",
         "0.26",
         "0.0",
         "1.0",
         "1.0",
         "0.0",
         "0.0",
         "1.0",
         "0.0",
         "0.0",
         "0.0",
         "1.0",
         "0.0"
        ]
       ],
       "shape": {
        "columns": 15,
        "rows": 976
       }
      },
      "text/html": [
       "<div>\n",
       "<style scoped>\n",
       "    .dataframe tbody tr th:only-of-type {\n",
       "        vertical-align: middle;\n",
       "    }\n",
       "\n",
       "    .dataframe tbody tr th {\n",
       "        vertical-align: top;\n",
       "    }\n",
       "\n",
       "    .dataframe thead th {\n",
       "        text-align: right;\n",
       "    }\n",
       "</style>\n",
       "<table border=\"1\" class=\"dataframe\">\n",
       "  <thead>\n",
       "    <tr style=\"text-align: right;\">\n",
       "      <th></th>\n",
       "      <th>parental level of education</th>\n",
       "      <th>math score</th>\n",
       "      <th>reading score</th>\n",
       "      <th>writing score</th>\n",
       "      <th>gender_female</th>\n",
       "      <th>gender_male</th>\n",
       "      <th>lunch_free/reduced</th>\n",
       "      <th>lunch_standard</th>\n",
       "      <th>test preparation course_completed</th>\n",
       "      <th>test preparation course_none</th>\n",
       "      <th>race/ethnicity_group A</th>\n",
       "      <th>race/ethnicity_group B</th>\n",
       "      <th>race/ethnicity_group C</th>\n",
       "      <th>race/ethnicity_group D</th>\n",
       "      <th>race/ethnicity_group E</th>\n",
       "    </tr>\n",
       "  </thead>\n",
       "  <tbody>\n",
       "    <tr>\n",
       "      <th>0</th>\n",
       "      <td>0.2</td>\n",
       "      <td>0.65</td>\n",
       "      <td>0.64</td>\n",
       "      <td>0.69</td>\n",
       "      <td>1.0</td>\n",
       "      <td>0.0</td>\n",
       "      <td>0.0</td>\n",
       "      <td>1.0</td>\n",
       "      <td>0.0</td>\n",
       "      <td>1.0</td>\n",
       "      <td>0.0</td>\n",
       "      <td>1.0</td>\n",
       "      <td>0.0</td>\n",
       "      <td>0.0</td>\n",
       "      <td>0.0</td>\n",
       "    </tr>\n",
       "    <tr>\n",
       "      <th>1</th>\n",
       "      <td>0.8</td>\n",
       "      <td>0.62</td>\n",
       "      <td>0.87</td>\n",
       "      <td>0.86</td>\n",
       "      <td>1.0</td>\n",
       "      <td>0.0</td>\n",
       "      <td>0.0</td>\n",
       "      <td>1.0</td>\n",
       "      <td>1.0</td>\n",
       "      <td>0.0</td>\n",
       "      <td>0.0</td>\n",
       "      <td>0.0</td>\n",
       "      <td>1.0</td>\n",
       "      <td>0.0</td>\n",
       "      <td>0.0</td>\n",
       "    </tr>\n",
       "    <tr>\n",
       "      <th>2</th>\n",
       "      <td>0.6</td>\n",
       "      <td>0.88</td>\n",
       "      <td>0.94</td>\n",
       "      <td>0.92</td>\n",
       "      <td>1.0</td>\n",
       "      <td>0.0</td>\n",
       "      <td>0.0</td>\n",
       "      <td>1.0</td>\n",
       "      <td>0.0</td>\n",
       "      <td>1.0</td>\n",
       "      <td>0.0</td>\n",
       "      <td>1.0</td>\n",
       "      <td>0.0</td>\n",
       "      <td>0.0</td>\n",
       "      <td>0.0</td>\n",
       "    </tr>\n",
       "    <tr>\n",
       "      <th>3</th>\n",
       "      <td>0.0</td>\n",
       "      <td>0.35</td>\n",
       "      <td>0.45</td>\n",
       "      <td>0.34</td>\n",
       "      <td>0.0</td>\n",
       "      <td>1.0</td>\n",
       "      <td>1.0</td>\n",
       "      <td>0.0</td>\n",
       "      <td>0.0</td>\n",
       "      <td>1.0</td>\n",
       "      <td>1.0</td>\n",
       "      <td>0.0</td>\n",
       "      <td>0.0</td>\n",
       "      <td>0.0</td>\n",
       "      <td>0.0</td>\n",
       "    </tr>\n",
       "    <tr>\n",
       "      <th>4</th>\n",
       "      <td>0.8</td>\n",
       "      <td>0.70</td>\n",
       "      <td>0.72</td>\n",
       "      <td>0.71</td>\n",
       "      <td>0.0</td>\n",
       "      <td>1.0</td>\n",
       "      <td>0.0</td>\n",
       "      <td>1.0</td>\n",
       "      <td>0.0</td>\n",
       "      <td>1.0</td>\n",
       "      <td>0.0</td>\n",
       "      <td>0.0</td>\n",
       "      <td>1.0</td>\n",
       "      <td>0.0</td>\n",
       "      <td>0.0</td>\n",
       "    </tr>\n",
       "    <tr>\n",
       "      <th>...</th>\n",
       "      <td>...</td>\n",
       "      <td>...</td>\n",
       "      <td>...</td>\n",
       "      <td>...</td>\n",
       "      <td>...</td>\n",
       "      <td>...</td>\n",
       "      <td>...</td>\n",
       "      <td>...</td>\n",
       "      <td>...</td>\n",
       "      <td>...</td>\n",
       "      <td>...</td>\n",
       "      <td>...</td>\n",
       "      <td>...</td>\n",
       "      <td>...</td>\n",
       "      <td>...</td>\n",
       "    </tr>\n",
       "    <tr>\n",
       "      <th>971</th>\n",
       "      <td>0.6</td>\n",
       "      <td>0.85</td>\n",
       "      <td>0.99</td>\n",
       "      <td>0.94</td>\n",
       "      <td>1.0</td>\n",
       "      <td>0.0</td>\n",
       "      <td>0.0</td>\n",
       "      <td>1.0</td>\n",
       "      <td>1.0</td>\n",
       "      <td>0.0</td>\n",
       "      <td>0.0</td>\n",
       "      <td>0.0</td>\n",
       "      <td>0.0</td>\n",
       "      <td>0.0</td>\n",
       "      <td>1.0</td>\n",
       "    </tr>\n",
       "    <tr>\n",
       "      <th>972</th>\n",
       "      <td>0.4</td>\n",
       "      <td>0.53</td>\n",
       "      <td>0.42</td>\n",
       "      <td>0.47</td>\n",
       "      <td>0.0</td>\n",
       "      <td>1.0</td>\n",
       "      <td>1.0</td>\n",
       "      <td>0.0</td>\n",
       "      <td>0.0</td>\n",
       "      <td>1.0</td>\n",
       "      <td>0.0</td>\n",
       "      <td>0.0</td>\n",
       "      <td>1.0</td>\n",
       "      <td>0.0</td>\n",
       "      <td>0.0</td>\n",
       "    </tr>\n",
       "    <tr>\n",
       "      <th>973</th>\n",
       "      <td>0.4</td>\n",
       "      <td>0.49</td>\n",
       "      <td>0.63</td>\n",
       "      <td>0.59</td>\n",
       "      <td>1.0</td>\n",
       "      <td>0.0</td>\n",
       "      <td>1.0</td>\n",
       "      <td>0.0</td>\n",
       "      <td>1.0</td>\n",
       "      <td>0.0</td>\n",
       "      <td>0.0</td>\n",
       "      <td>0.0</td>\n",
       "      <td>1.0</td>\n",
       "      <td>0.0</td>\n",
       "      <td>0.0</td>\n",
       "    </tr>\n",
       "    <tr>\n",
       "      <th>974</th>\n",
       "      <td>0.8</td>\n",
       "      <td>0.60</td>\n",
       "      <td>0.72</td>\n",
       "      <td>0.73</td>\n",
       "      <td>1.0</td>\n",
       "      <td>0.0</td>\n",
       "      <td>0.0</td>\n",
       "      <td>1.0</td>\n",
       "      <td>1.0</td>\n",
       "      <td>0.0</td>\n",
       "      <td>0.0</td>\n",
       "      <td>0.0</td>\n",
       "      <td>0.0</td>\n",
       "      <td>1.0</td>\n",
       "      <td>0.0</td>\n",
       "    </tr>\n",
       "    <tr>\n",
       "      <th>975</th>\n",
       "      <td>0.8</td>\n",
       "      <td>0.72</td>\n",
       "      <td>0.82</td>\n",
       "      <td>0.84</td>\n",
       "      <td>1.0</td>\n",
       "      <td>0.0</td>\n",
       "      <td>1.0</td>\n",
       "      <td>0.0</td>\n",
       "      <td>0.0</td>\n",
       "      <td>1.0</td>\n",
       "      <td>0.0</td>\n",
       "      <td>0.0</td>\n",
       "      <td>0.0</td>\n",
       "      <td>1.0</td>\n",
       "      <td>0.0</td>\n",
       "    </tr>\n",
       "  </tbody>\n",
       "</table>\n",
       "<p>976 rows × 15 columns</p>\n",
       "</div>"
      ],
      "text/plain": [
       "     parental level of education  math score  reading score  writing score  \\\n",
       "0                            0.2        0.65           0.64           0.69   \n",
       "1                            0.8        0.62           0.87           0.86   \n",
       "2                            0.6        0.88           0.94           0.92   \n",
       "3                            0.0        0.35           0.45           0.34   \n",
       "4                            0.8        0.70           0.72           0.71   \n",
       "..                           ...         ...            ...            ...   \n",
       "971                          0.6        0.85           0.99           0.94   \n",
       "972                          0.4        0.53           0.42           0.47   \n",
       "973                          0.4        0.49           0.63           0.59   \n",
       "974                          0.8        0.60           0.72           0.73   \n",
       "975                          0.8        0.72           0.82           0.84   \n",
       "\n",
       "     gender_female  gender_male  lunch_free/reduced  lunch_standard  \\\n",
       "0              1.0          0.0                 0.0             1.0   \n",
       "1              1.0          0.0                 0.0             1.0   \n",
       "2              1.0          0.0                 0.0             1.0   \n",
       "3              0.0          1.0                 1.0             0.0   \n",
       "4              0.0          1.0                 0.0             1.0   \n",
       "..             ...          ...                 ...             ...   \n",
       "971            1.0          0.0                 0.0             1.0   \n",
       "972            0.0          1.0                 1.0             0.0   \n",
       "973            1.0          0.0                 1.0             0.0   \n",
       "974            1.0          0.0                 0.0             1.0   \n",
       "975            1.0          0.0                 1.0             0.0   \n",
       "\n",
       "     test preparation course_completed  test preparation course_none  \\\n",
       "0                                  0.0                           1.0   \n",
       "1                                  1.0                           0.0   \n",
       "2                                  0.0                           1.0   \n",
       "3                                  0.0                           1.0   \n",
       "4                                  0.0                           1.0   \n",
       "..                                 ...                           ...   \n",
       "971                                1.0                           0.0   \n",
       "972                                0.0                           1.0   \n",
       "973                                1.0                           0.0   \n",
       "974                                1.0                           0.0   \n",
       "975                                0.0                           1.0   \n",
       "\n",
       "     race/ethnicity_group A  race/ethnicity_group B  race/ethnicity_group C  \\\n",
       "0                       0.0                     1.0                     0.0   \n",
       "1                       0.0                     0.0                     1.0   \n",
       "2                       0.0                     1.0                     0.0   \n",
       "3                       1.0                     0.0                     0.0   \n",
       "4                       0.0                     0.0                     1.0   \n",
       "..                      ...                     ...                     ...   \n",
       "971                     0.0                     0.0                     0.0   \n",
       "972                     0.0                     0.0                     1.0   \n",
       "973                     0.0                     0.0                     1.0   \n",
       "974                     0.0                     0.0                     0.0   \n",
       "975                     0.0                     0.0                     0.0   \n",
       "\n",
       "     race/ethnicity_group D  race/ethnicity_group E  \n",
       "0                       0.0                     0.0  \n",
       "1                       0.0                     0.0  \n",
       "2                       0.0                     0.0  \n",
       "3                       0.0                     0.0  \n",
       "4                       0.0                     0.0  \n",
       "..                      ...                     ...  \n",
       "971                     0.0                     1.0  \n",
       "972                     0.0                     0.0  \n",
       "973                     0.0                     0.0  \n",
       "974                     1.0                     0.0  \n",
       "975                     1.0                     0.0  \n",
       "\n",
       "[976 rows x 15 columns]"
      ]
     },
     "execution_count": 52,
     "metadata": {},
     "output_type": "execute_result"
    }
   ],
   "source": [
    "from sklearn.preprocessing import MinMaxScaler\n",
    "\n",
    "normalized_scalar = MinMaxScaler()\n",
    "normalized_data = normalized_scalar.fit_transform(df.values)\n",
    "normalized_df = pd.DataFrame(np.round(normalized_data, 2), columns=df.columns)\n",
    "normalized_df"
   ]
  }
 ],
 "metadata": {
  "kernelspec": {
   "display_name": ".venv",
   "language": "python",
   "name": "python3"
  },
  "language_info": {
   "codemirror_mode": {
    "name": "ipython",
    "version": 3
   },
   "file_extension": ".py",
   "mimetype": "text/x-python",
   "name": "python",
   "nbconvert_exporter": "python",
   "pygments_lexer": "ipython3",
   "version": "3.13.3"
  }
 },
 "nbformat": 4,
 "nbformat_minor": 5
}
